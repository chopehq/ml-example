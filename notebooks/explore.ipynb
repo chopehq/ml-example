{
 "cells": [
  {
   "cell_type": "code",
   "execution_count": null,
   "id": "residential-antarctica",
   "metadata": {
    "ExecuteTime": {
     "end_time": "2022-05-17T09:05:22.577435Z",
     "start_time": "2022-05-17T09:05:12.357840Z"
    }
   },
   "outputs": [],
   "source": [
    "%load_ext autoreload\n",
    "%autoreload 2\n",
    "%matplotlib inline\n",
    "\n",
    "import os\n",
    "\n",
    "import pandas as pd\n",
    "from tqdm.autonotebook import tqdm\n",
    "\n",
    "tqdm.pandas()"
   ]
  },
  {
   "cell_type": "markdown",
   "id": "instrumental-grounds",
   "metadata": {},
   "source": [
    "# How to use this notebook \n",
    "- This notebook describes the process to model and bulid the recommend service\n",
    "- It contains some EDA and is a playground for my experiments\n",
    "- This notebook can be executed from top to bottom to arrive at a served service"
   ]
  },
  {
   "cell_type": "markdown",
   "id": "aggregate-foster",
   "metadata": {},
   "source": [
    "# Approach to train a Restaurant Recommender\n",
    "\n",
    "## Choose method\n",
    "- I came across <a href=\"https://arxiv.org/abs/1507.08439\">LightFM paper</a> months ago and was fascinated about how intuitive it is. Based on that paper, LightFM does not only able to incorporate metadata from users and items, it also is capable of outputing semantics embeddings. Furthermore, LightFM is made to exploit implicit feedback, which is the type of rating we have for this problem.\n",
    "- Apart from LightFM, a content-based recommendation system comes top of my mind as I see the sparse interactions where 75% of our users are one-off.\n",
    "    \n",
    "## Define rating\n",
    "- There are three kinds of rating I have tried:\n",
    "    - The count number of reservations\n",
    "    - The weigthed count number of reservations (based on both average of that user and average of that restaurant)\n",
    "    - A random rating, to estimate impact of rating on our performance metrics (AUC and Precision At K)\n",
    "- Since the experimental result suggests no significant change in performance w.r.t. to rating calculation, the final model sticks with the basic one (count reservations).\n",
    "\n",
    "## Split train test\n",
    "- As in this scope I don't exploit contextual information to recommend, I try to model the taste of users.\n",
    "- Given the above objective, I apply a simple ratings drop-out for test set\n",
    "\n",
    "## Fit model\n",
    "- LightFM offers a variety of hyper-parameters. Reading the docs gives me enough information to select a decent default parameter including `loss='warp'` and `n_components=50`.\n",
    "- I try some quick random searches and find no significant improvement.\n",
    "- I try incorporating the categorical metadata of restaurants as features, but no significance found either.\n",
    "- Therefore, I believe that the next experiment should be to re-examine the way we feed data into model training. Then to change the input and maybe combine other approaches.\n",
    "\n",
    "## Serve model\n",
    "- As the time of this writing, BentoML is a new (2 years old) and promising open-source package to help us ship our model.\n",
    "- As BentoML has not yet introduced a pre-defined framework for LightFM, I implement two custom artifacts to encapsulate LightFM modeling objects: dataset and model. It is convenient that the LightFM artifacts can be persisted using Python `pickle` package (just like Scikit-Learn).\n",
    "- In case input user not found by LightFM model, there is a Popular Recommender as fallback\n",
    "\n",
    "## Shipping\n",
    "- As they are shared many environment requirements, I extend the bentoml docker image to build a new one ready to run our scripts\n",
    "- The training outputs artifacts to a shared volume so that later processes can pick up"
   ]
  },
  {
   "cell_type": "markdown",
   "id": "provincial-document",
   "metadata": {},
   "source": [
    "# Load data"
   ]
  },
  {
   "cell_type": "code",
   "execution_count": null,
   "id": "essential-syndrome",
   "metadata": {
    "ExecuteTime": {
     "end_time": "2022-05-17T09:05:25.272213Z",
     "start_time": "2022-05-17T09:05:25.243956Z"
    }
   },
   "outputs": [],
   "source": [
    "DATA_RAW_DIR = \"../data/datasets/\""
   ]
  },
  {
   "cell_type": "code",
   "execution_count": null,
   "id": "running-cliff",
   "metadata": {
    "ExecuteTime": {
     "end_time": "2022-05-17T09:05:26.649728Z",
     "start_time": "2022-05-17T09:05:25.856285Z"
    }
   },
   "outputs": [],
   "source": [
    "rez_df = pd.read_csv(DATA_RAW_DIR + \"reservations.csv\", dtype={\"rez_id\": str})\n",
    "\n",
    "rez_df[\"reservation_time\"] = pd.to_datetime(\n",
    "    rez_df[\"reservation_time\"], unit=\"s\", utc=True\n",
    ")\n",
    "rez_df[\"booking_time\"] = pd.to_datetime(rez_df[\"booking_time\"], unit=\"s\", utc=True)"
   ]
  },
  {
   "cell_type": "code",
   "execution_count": null,
   "id": "statewide-reply",
   "metadata": {
    "ExecuteTime": {
     "end_time": "2022-05-17T09:05:27.528310Z",
     "start_time": "2022-05-17T09:05:27.501121Z"
    },
    "scrolled": true
   },
   "outputs": [],
   "source": [
    "rez_df"
   ]
  },
  {
   "cell_type": "markdown",
   "id": "dynamic-maximum",
   "metadata": {},
   "source": [
    "# EDA"
   ]
  },
  {
   "cell_type": "markdown",
   "id": "potential-differential",
   "metadata": {},
   "source": [
    "## Identify low-frequency restaurants"
   ]
  },
  {
   "cell_type": "markdown",
   "id": "military-structure",
   "metadata": {},
   "source": [
    "Assumption: Those low-frequency restaurants are not safe to recommend because we know little about them."
   ]
  },
  {
   "cell_type": "code",
   "execution_count": null,
   "id": "australian-approach",
   "metadata": {
    "ExecuteTime": {
     "end_time": "2022-05-17T09:05:31.041001Z",
     "start_time": "2022-05-17T09:05:30.711660Z"
    }
   },
   "outputs": [],
   "source": [
    "res_freq = rez_df.groupby([\"RestaurantUID\"]).agg(\n",
    "    {\"rez_id\": [\"nunique\"], \"hashed_email\": [\"nunique\"]}\n",
    ")\n",
    "res_freq.columns = [\"_\".join(col).strip() for col in res_freq.columns.values]"
   ]
  },
  {
   "cell_type": "code",
   "execution_count": null,
   "id": "going-canberra",
   "metadata": {
    "ExecuteTime": {
     "end_time": "2022-05-17T09:05:31.841417Z",
     "start_time": "2022-05-17T09:05:31.802980Z"
    }
   },
   "outputs": [],
   "source": [
    "res_freq.describe(include=\"all\", percentiles=[0.05, 0.1, 0.2, 0.5, 0.75]).T"
   ]
  },
  {
   "cell_type": "markdown",
   "id": "treated-shelter",
   "metadata": {},
   "source": [
    "If we recommend only restaurants that have more than 10 users visited, we drop about 20% restaurants."
   ]
  },
  {
   "cell_type": "markdown",
   "id": "moral-collection",
   "metadata": {},
   "source": [
    "## Identify low-frequency users"
   ]
  },
  {
   "cell_type": "code",
   "execution_count": null,
   "id": "annual-tobago",
   "metadata": {
    "ExecuteTime": {
     "end_time": "2022-05-17T09:05:34.063195Z",
     "start_time": "2022-05-17T09:05:33.177724Z"
    }
   },
   "outputs": [],
   "source": [
    "user_freq = rez_df.groupby([\"hashed_email\"]).agg(\n",
    "    {\"rez_id\": [\"nunique\"], \"RestaurantUID\": [\"nunique\"]}\n",
    ")\n",
    "user_freq.columns = [\"_\".join(col).strip() for col in user_freq.columns.values]"
   ]
  },
  {
   "cell_type": "code",
   "execution_count": null,
   "id": "expected-dining",
   "metadata": {
    "ExecuteTime": {
     "end_time": "2022-05-17T09:05:34.089874Z",
     "start_time": "2022-05-17T09:05:34.064249Z"
    }
   },
   "outputs": [],
   "source": [
    "user_freq.describe(include=\"all\", percentiles=[0.25, 0.5, 0.75, 0.8, 0.9]).T"
   ]
  },
  {
   "cell_type": "markdown",
   "id": "recovered-occurrence",
   "metadata": {},
   "source": [
    "If we apply LightFM to recommend for only users visiting more than 1 restaurant, we will not touch 75% of our uses! This finding also indicates that we suffer from cold-start problem and might need to add a content-based recommender system to handle."
   ]
  },
  {
   "cell_type": "markdown",
   "id": "present-ethernet",
   "metadata": {},
   "source": [
    "# Preprocess"
   ]
  },
  {
   "cell_type": "markdown",
   "id": "ahead-electricity",
   "metadata": {},
   "source": [
    "## Count reservations as rating"
   ]
  },
  {
   "cell_type": "code",
   "execution_count": null,
   "id": "consolidated-tribe",
   "metadata": {
    "ExecuteTime": {
     "end_time": "2022-05-17T09:05:36.654321Z",
     "start_time": "2022-05-17T09:05:35.763073Z"
    }
   },
   "outputs": [],
   "source": [
    "rating_df = rez_df.groupby([\"hashed_email\", \"RestaurantUID\"]).agg(\n",
    "    {\"rez_id\": [\"nunique\"]}\n",
    ")\n",
    "rating_df.columns = [\"_\".join(col).strip() for col in rating_df.columns.values]\n",
    "rating_df = rating_df.reset_index()\n",
    "rating_df"
   ]
  },
  {
   "cell_type": "code",
   "execution_count": null,
   "id": "cubic-command",
   "metadata": {
    "ExecuteTime": {
     "end_time": "2022-05-17T09:05:38.214917Z",
     "start_time": "2022-05-17T09:05:37.810382Z"
    }
   },
   "outputs": [],
   "source": [
    "rating_df.describe(include=\"all\", percentiles=[0.25, 0.5, 0.75, 0.8, 0.9, 0.95]).T"
   ]
  },
  {
   "cell_type": "markdown",
   "id": "marked-premium",
   "metadata": {},
   "source": [
    "Only 5% users booked a restaurant more than once."
   ]
  },
  {
   "cell_type": "markdown",
   "id": "sweet-washington",
   "metadata": {},
   "source": [
    "The first naive implicit rater is to clip the `rez_id_nunique` in the range (1, 5)"
   ]
  },
  {
   "cell_type": "code",
   "execution_count": null,
   "id": "south-receiver",
   "metadata": {
    "ExecuteTime": {
     "end_time": "2022-05-17T09:05:38.329433Z",
     "start_time": "2022-05-17T09:05:38.315646Z"
    }
   },
   "outputs": [],
   "source": [
    "rating_df[\"rating\"] = rating_df[\"rez_id_nunique\"].clip(lower=1, upper=5)"
   ]
  },
  {
   "cell_type": "markdown",
   "id": "front-stretch",
   "metadata": {},
   "source": [
    "## Weighted average rating"
   ]
  },
  {
   "cell_type": "code",
   "execution_count": null,
   "id": "hourly-thursday",
   "metadata": {
    "ExecuteTime": {
     "end_time": "2022-05-17T09:05:40.316562Z",
     "start_time": "2022-05-17T09:05:39.887306Z"
    }
   },
   "outputs": [],
   "source": [
    "rating_df[\"hashed_email_mean_rating\"] = rating_df.groupby([\"hashed_email\"])[\n",
    "    \"rating\"\n",
    "].transform(\"mean\")\n",
    "rating_df[\"RestaurantUID_mean_rating\"] = rating_df.groupby([\"RestaurantUID\"])[\n",
    "    \"rating\"\n",
    "].transform(\"mean\")"
   ]
  },
  {
   "cell_type": "code",
   "execution_count": null,
   "id": "rental-breakdown",
   "metadata": {
    "ExecuteTime": {
     "end_time": "2022-05-17T09:05:40.332036Z",
     "start_time": "2022-05-17T09:05:40.317744Z"
    }
   },
   "outputs": [],
   "source": [
    "rating_df[\"rating_wa\"] = (\n",
    "    rating_df[\"rating\"] / rating_df[\"hashed_email_mean_rating\"]\n",
    "    + rating_df[\"rating\"] / rating_df[\"RestaurantUID_mean_rating\"]\n",
    ") / 2"
   ]
  },
  {
   "cell_type": "code",
   "execution_count": null,
   "id": "biological-fortune",
   "metadata": {
    "ExecuteTime": {
     "end_time": "2022-05-17T09:05:41.740689Z",
     "start_time": "2022-05-17T09:05:41.332333Z"
    }
   },
   "outputs": [],
   "source": [
    "rating_df.describe(include=\"all\").T"
   ]
  },
  {
   "cell_type": "markdown",
   "id": "potential-canyon",
   "metadata": {},
   "source": [
    "## Random rating"
   ]
  },
  {
   "cell_type": "markdown",
   "id": "equivalent-ethiopia",
   "metadata": {},
   "source": [
    "To test the impact of implementing implicit rating"
   ]
  },
  {
   "cell_type": "code",
   "execution_count": null,
   "id": "reduced-bibliography",
   "metadata": {
    "ExecuteTime": {
     "end_time": "2022-05-17T09:05:43.589321Z",
     "start_time": "2022-05-17T09:05:43.569661Z"
    }
   },
   "outputs": [],
   "source": [
    "import numpy as np"
   ]
  },
  {
   "cell_type": "code",
   "execution_count": null,
   "id": "acquired-wallace",
   "metadata": {
    "ExecuteTime": {
     "end_time": "2022-05-17T09:05:43.753022Z",
     "start_time": "2022-05-17T09:05:43.720750Z"
    }
   },
   "outputs": [],
   "source": [
    "random_range = list(range(1, 5))\n",
    "rating_df[\"rating_random\"] = np.random.choice(random_range, size=rating_df.shape[0])"
   ]
  },
  {
   "cell_type": "markdown",
   "id": "latter-shade",
   "metadata": {},
   "source": [
    "# Getting restaurant metadata"
   ]
  },
  {
   "cell_type": "markdown",
   "id": "quality-substitute",
   "metadata": {},
   "source": [
    "## Load res_cats"
   ]
  },
  {
   "cell_type": "code",
   "execution_count": null,
   "id": "abstract-worship",
   "metadata": {
    "ExecuteTime": {
     "end_time": "2022-05-17T09:05:45.306295Z",
     "start_time": "2022-05-17T09:05:45.240000Z"
    }
   },
   "outputs": [],
   "source": [
    "cat_df = pd.read_csv(DATA_RAW_DIR + \"restaurant_category.csv\", dtype=str)\n",
    "res_cats_rel_df = pd.read_csv(DATA_RAW_DIR + \"res_cats_relationship.csv\", dtype=str)"
   ]
  },
  {
   "cell_type": "code",
   "execution_count": null,
   "id": "departmental-arbitration",
   "metadata": {
    "ExecuteTime": {
     "end_time": "2022-05-17T09:05:45.428399Z",
     "start_time": "2022-05-17T09:05:45.410395Z"
    }
   },
   "outputs": [],
   "source": [
    "cat_df"
   ]
  },
  {
   "cell_type": "code",
   "execution_count": null,
   "id": "southwest-brunswick",
   "metadata": {
    "ExecuteTime": {
     "end_time": "2022-05-17T09:05:46.806223Z",
     "start_time": "2022-05-17T09:05:46.772087Z"
    }
   },
   "outputs": [],
   "source": [
    "_cols = [\"id\", \"name\"]\n",
    "_cat_df = cat_df[_cols].rename(columns={\"id\": \"parent_id\", \"name\": \"cat_parent_name\"})\n",
    "cat_cross_df = cat_df.merge(_cat_df, how=\"left\", on=\"parent_id\")\n",
    "cat_cross_df[\"cat_parent_name\"] = cat_cross_df[\"cat_parent_name\"].str.upper()"
   ]
  },
  {
   "cell_type": "code",
   "execution_count": null,
   "id": "other-incident",
   "metadata": {
    "ExecuteTime": {
     "end_time": "2022-05-17T09:05:46.998424Z",
     "start_time": "2022-05-17T09:05:46.939514Z"
    }
   },
   "outputs": [],
   "source": [
    "cat_denom_df = res_cats_rel_df.merge(\n",
    "    cat_cross_df, how=\"left\", left_on=\"cat_id\", right_on=\"id\"\n",
    ")\n",
    "\n",
    "cat_denom_df = cat_denom_df.drop([\"id\"], axis=1)\n",
    "cat_denom_df = cat_denom_df.rename(\n",
    "    columns={\n",
    "        \"parent_id\": \"cat_parent_id\",\n",
    "        \"name\": \"cat_name\",\n",
    "        \"country_code\": \"cat_country_code\",\n",
    "    }\n",
    ")\n",
    "cat_denom_df[\"cat_name\"] = cat_denom_df[\"cat_name\"].str.lower()"
   ]
  },
  {
   "cell_type": "code",
   "execution_count": null,
   "id": "normal-spine",
   "metadata": {
    "ExecuteTime": {
     "end_time": "2022-05-17T09:05:47.503844Z",
     "start_time": "2022-05-17T09:05:47.453341Z"
    }
   },
   "outputs": [],
   "source": [
    "res_agg_df = cat_denom_df.groupby(\n",
    "    [\"RestaurantUID\", \"cat_country_code\"], as_index=False\n",
    ")[\"cat_id\"].count()\n",
    "res_agg_df = res_agg_df.drop(columns=[\"cat_id\"])\n",
    "\n",
    "assert res_agg_df[\"RestaurantUID\"].duplicated().sum() == 0"
   ]
  },
  {
   "cell_type": "code",
   "execution_count": null,
   "id": "chicken-cotton",
   "metadata": {
    "ExecuteTime": {
     "end_time": "2022-05-17T09:05:48.324404Z",
     "start_time": "2022-05-17T09:05:48.309046Z"
    }
   },
   "outputs": [],
   "source": [
    "res_agg_df"
   ]
  },
  {
   "cell_type": "markdown",
   "id": "pleasant-occurrence",
   "metadata": {},
   "source": [
    "## Format res_cats"
   ]
  },
  {
   "cell_type": "code",
   "execution_count": null,
   "id": "wrong-magnitude",
   "metadata": {
    "ExecuteTime": {
     "end_time": "2022-05-17T09:05:50.518514Z",
     "start_time": "2022-05-17T09:05:50.453186Z"
    }
   },
   "outputs": [],
   "source": [
    "res_features = res_agg_df.to_dict(orient=\"records\")"
   ]
  },
  {
   "cell_type": "markdown",
   "id": "oriented-boutique",
   "metadata": {},
   "source": [
    "# Prepare rating format "
   ]
  },
  {
   "cell_type": "code",
   "execution_count": null,
   "id": "terminal-provision",
   "metadata": {
    "ExecuteTime": {
     "end_time": "2022-05-17T09:05:52.859350Z",
     "start_time": "2022-05-17T09:05:51.709082Z"
    }
   },
   "outputs": [],
   "source": [
    "rating_col = \"rating\"\n",
    "cols = [\"hashed_email\", \"RestaurantUID\", rating_col]\n",
    "rating_dicts = rating_df[cols].to_dict(orient=\"records\")"
   ]
  },
  {
   "cell_type": "code",
   "execution_count": null,
   "id": "current-brick",
   "metadata": {
    "ExecuteTime": {
     "end_time": "2022-05-17T09:06:23.129980Z",
     "start_time": "2022-05-17T09:05:52.860511Z"
    }
   },
   "outputs": [],
   "source": [
    "from lightfm.data import Dataset\n",
    "\n",
    "dataset = Dataset()\n",
    "dataset.fit(\n",
    "    (x[\"hashed_email\"] for x in rating_dicts),\n",
    "    (x[\"RestaurantUID\"] for x in rating_dicts),\n",
    ")"
   ]
  },
  {
   "cell_type": "code",
   "execution_count": null,
   "id": "provincial-initial",
   "metadata": {
    "ExecuteTime": {
     "end_time": "2022-05-17T09:06:32.796693Z",
     "start_time": "2022-05-17T09:06:32.754221Z"
    }
   },
   "outputs": [],
   "source": [
    "dataset.fit_partial(\n",
    "    items=(x[\"RestaurantUID\"] for x in res_features),\n",
    "    item_features=(x[\"cat_country_code\"] for x in res_features),\n",
    ")"
   ]
  },
  {
   "cell_type": "code",
   "execution_count": null,
   "id": "lovely-atlas",
   "metadata": {
    "ExecuteTime": {
     "end_time": "2022-05-17T09:06:33.257775Z",
     "start_time": "2022-05-17T09:06:33.229132Z"
    }
   },
   "outputs": [],
   "source": [
    "num_users, num_items = dataset.interactions_shape()\n",
    "print(\"Num users: {}, Num restaurants: {}.\".format(num_users, num_items))"
   ]
  },
  {
   "cell_type": "code",
   "execution_count": null,
   "id": "female-macedonia",
   "metadata": {
    "ExecuteTime": {
     "end_time": "2022-05-17T09:06:34.236607Z",
     "start_time": "2022-05-17T09:06:33.497483Z"
    }
   },
   "outputs": [],
   "source": [
    "(interactions, weights) = dataset.build_interactions(\n",
    "    ((x[\"hashed_email\"], x[\"RestaurantUID\"], x[rating_col]) for x in rating_dicts)\n",
    ")\n",
    "\n",
    "print(repr(interactions))"
   ]
  },
  {
   "cell_type": "code",
   "execution_count": null,
   "id": "educated-composer",
   "metadata": {
    "ExecuteTime": {
     "end_time": "2022-05-17T09:06:35.113019Z",
     "start_time": "2022-05-17T09:06:35.085879Z"
    }
   },
   "outputs": [],
   "source": [
    "sparsity = weights.nnz / (weights.shape[0] * weights.shape[1])"
   ]
  },
  {
   "cell_type": "code",
   "execution_count": null,
   "id": "above-textbook",
   "metadata": {
    "ExecuteTime": {
     "end_time": "2022-05-17T09:06:35.238827Z",
     "start_time": "2022-05-17T09:06:35.220983Z"
    }
   },
   "outputs": [],
   "source": [
    "sparsity"
   ]
  },
  {
   "cell_type": "markdown",
   "id": "canadian-couple",
   "metadata": {},
   "source": [
    "#### Build item features"
   ]
  },
  {
   "cell_type": "code",
   "execution_count": null,
   "id": "canadian-discharge",
   "metadata": {
    "ExecuteTime": {
     "end_time": "2022-05-17T09:06:36.475228Z",
     "start_time": "2022-05-17T09:06:36.437647Z"
    }
   },
   "outputs": [],
   "source": [
    "item_features = dataset.build_item_features(\n",
    "    ((x[\"RestaurantUID\"], [x[\"cat_country_code\"]]) for x in res_features)\n",
    ")"
   ]
  },
  {
   "cell_type": "code",
   "execution_count": null,
   "id": "fantastic-match",
   "metadata": {
    "ExecuteTime": {
     "end_time": "2022-05-17T09:06:36.638419Z",
     "start_time": "2022-05-17T09:06:36.614360Z"
    }
   },
   "outputs": [],
   "source": [
    "print(repr(item_features))"
   ]
  },
  {
   "cell_type": "markdown",
   "id": "dedicated-waters",
   "metadata": {},
   "source": [
    "# Split train test"
   ]
  },
  {
   "cell_type": "code",
   "execution_count": null,
   "id": "cardiac-source",
   "metadata": {
    "ExecuteTime": {
     "end_time": "2022-05-17T09:06:37.951588Z",
     "start_time": "2022-05-17T09:06:37.935190Z"
    }
   },
   "outputs": [],
   "source": [
    "from lightfm.cross_validation import random_train_test_split"
   ]
  },
  {
   "cell_type": "code",
   "execution_count": null,
   "id": "impressive-universe",
   "metadata": {
    "ExecuteTime": {
     "end_time": "2022-05-17T09:06:38.125096Z",
     "start_time": "2022-05-17T09:06:38.076998Z"
    }
   },
   "outputs": [],
   "source": [
    "train, test = random_train_test_split(weights, test_percentage=0.2, random_state=13)"
   ]
  },
  {
   "cell_type": "markdown",
   "id": "useful-auction",
   "metadata": {},
   "source": [
    "# Fit model"
   ]
  },
  {
   "cell_type": "code",
   "execution_count": null,
   "id": "architectural-address",
   "metadata": {
    "ExecuteTime": {
     "end_time": "2022-05-17T09:06:39.324871Z",
     "start_time": "2022-05-17T09:06:39.293824Z"
    }
   },
   "outputs": [],
   "source": [
    "from lightfm import LightFM\n",
    "from lightfm.evaluation import precision_at_k, auc_score"
   ]
  },
  {
   "cell_type": "markdown",
   "id": "concrete-battle",
   "metadata": {},
   "source": [
    "## WARP"
   ]
  },
  {
   "cell_type": "code",
   "execution_count": null,
   "id": "alternate-singapore",
   "metadata": {
    "ExecuteTime": {
     "end_time": "2022-05-17T09:08:38.991795Z",
     "start_time": "2022-05-17T09:06:43.890995Z"
    }
   },
   "outputs": [],
   "source": [
    "model = LightFM(\n",
    "    no_components=50, learning_schedule=\"adagrad\", learning_rate=0.01, loss=\"warp\"\n",
    ")\n",
    "\n",
    "model.fit_partial(train, epochs=10, sample_weight=train, verbose=True)\n",
    "\n",
    "train_precision = precision_at_k(model, train, k=10).mean()\n",
    "test_precision = precision_at_k(\n",
    "    model, test, k=10, train_interactions=train, check_intersections=True,\n",
    ").mean()\n",
    "\n",
    "train_auc = auc_score(model, train).mean()\n",
    "test_auc = auc_score(model, test, train_interactions=train,).mean()\n",
    "\n",
    "print(\"Precision: train %.2f, test %.2f.\" % (train_precision, test_precision))\n",
    "print(\"AUC: train %.2f, test %.2f.\" % (train_auc, test_auc))"
   ]
  },
  {
   "cell_type": "markdown",
   "id": "functioning-bishop",
   "metadata": {},
   "source": [
    "# Hyper-param tuning"
   ]
  },
  {
   "cell_type": "code",
   "execution_count": null,
   "id": "fourth-refund",
   "metadata": {
    "ExecuteTime": {
     "end_time": "2022-05-17T09:08:50.026838Z",
     "start_time": "2022-05-17T09:08:49.944312Z"
    }
   },
   "outputs": [],
   "source": [
    "import itertools\n",
    "\n",
    "\n",
    "def sample_hyperparameters():\n",
    "    \"\"\"\n",
    "    Yield possible hyperparameter choices.\n",
    "    \"\"\"\n",
    "\n",
    "    while True:\n",
    "        yield {\n",
    "            \"no_components\": np.random.randint(16, 64),\n",
    "            \"learning_schedule\": np.random.choice([\"adagrad\", \"adadelta\"]),\n",
    "            \"loss\": np.random.choice([\"bpr\", \"warp\", \"warp-kos\"]),\n",
    "            \"learning_rate\": np.random.exponential(0.05),\n",
    "            \"item_alpha\": np.random.exponential(1e-8),\n",
    "            \"user_alpha\": np.random.exponential(1e-8),\n",
    "            \"max_sampled\": np.random.randint(5, 15),\n",
    "            \"num_epochs\": np.random.randint(5, 50),\n",
    "        }\n",
    "\n",
    "\n",
    "def random_search(train, test, num_samples=10, num_threads=1):\n",
    "    \"\"\"\n",
    "    Sample random hyperparameters, fit a LightFM model, and evaluate it\n",
    "    on the test set.\n",
    "\n",
    "    Parameters\n",
    "    ----------\n",
    "\n",
    "    train: np.float32 coo_matrix of shape [n_users, n_items]\n",
    "        Training data.\n",
    "    test: np.float32 coo_matrix of shape [n_users, n_items]\n",
    "        Test data.\n",
    "    num_samples: int, optional\n",
    "        Number of hyperparameter choices to evaluate.\n",
    "\n",
    "\n",
    "    Returns\n",
    "    -------\n",
    "\n",
    "    generator of (auc_score, hyperparameter dict, fitted model)\n",
    "\n",
    "    \"\"\"\n",
    "\n",
    "    i = 1\n",
    "    for hyperparams in itertools.islice(sample_hyperparameters(), num_samples):\n",
    "        print(f\"{i} - Evaluating {hyperparams}...\")\n",
    "        num_epochs = hyperparams.pop(\"num_epochs\")\n",
    "\n",
    "        model = LightFM(**hyperparams)\n",
    "        model.fit(train, epochs=num_epochs, num_threads=num_threads)\n",
    "\n",
    "        score_auc = auc_score(\n",
    "            model, test, train_interactions=train, num_threads=num_threads\n",
    "        ).mean()\n",
    "        score_pak = precision_at_k(\n",
    "            model, test, k=10, train_interactions=train, check_intersections=True,\n",
    "        ).mean()\n",
    "\n",
    "        hyperparams[\"num_epochs\"] = num_epochs\n",
    "\n",
    "        yield (score_pak, score_auc, hyperparams, model)\n",
    "\n",
    "        i += 1"
   ]
  },
  {
   "cell_type": "code",
   "execution_count": null,
   "id": "adaptive-auditor",
   "metadata": {
    "ExecuteTime": {
     "end_time": "2022-05-17T09:22:32.132060Z",
     "start_time": "2022-05-17T09:08:51.486101Z"
    },
    "scrolled": true
   },
   "outputs": [],
   "source": [
    "random_search_results = []\n",
    "rs = random_search(train, test, num_samples=20, num_threads=2)\n",
    "for result in rs:\n",
    "    random_search_results.append(result)"
   ]
  },
  {
   "cell_type": "code",
   "execution_count": null,
   "id": "fresh-secondary",
   "metadata": {
    "ExecuteTime": {
     "end_time": "2022-05-17T09:22:34.805552Z",
     "start_time": "2022-05-17T09:22:34.706368Z"
    },
    "scrolled": true
   },
   "outputs": [],
   "source": [
    "rs_result_df = pd.DataFrame(random_search_results).drop(columns=[3])\n",
    "rs_result_df = pd.concat([rs_result_df, rs_result_df[2].apply(pd.Series)], axis=1)\n",
    "rs_result_df = rs_result_df.drop(columns=[2])\n",
    "rs_result_df = rs_result_df.rename(columns={0: \"precision_at_10\", 1: \"auc\"})"
   ]
  },
  {
   "cell_type": "code",
   "execution_count": null,
   "id": "better-effect",
   "metadata": {
    "ExecuteTime": {
     "end_time": "2022-05-17T09:22:35.770606Z",
     "start_time": "2022-05-17T09:22:35.717037Z"
    },
    "scrolled": true
   },
   "outputs": [],
   "source": [
    "rs_result_df.sort_values([\"precision_at_10\"], ascending=False)"
   ]
  },
  {
   "cell_type": "markdown",
   "id": "reflected-creek",
   "metadata": {},
   "source": [
    "Hyper-parameter tuning does not help increase the model performance."
   ]
  },
  {
   "cell_type": "markdown",
   "id": "lightweight-communist",
   "metadata": {},
   "source": [
    "# Popular recommender"
   ]
  },
  {
   "cell_type": "code",
   "execution_count": null,
   "id": "controversial-samuel",
   "metadata": {
    "ExecuteTime": {
     "end_time": "2022-05-17T09:23:13.962727Z",
     "start_time": "2022-05-17T09:23:13.658349Z"
    }
   },
   "outputs": [],
   "source": [
    "pop_res = rez_df.groupby([\"RestaurantUID\"]).agg({\"rez_id\": [\"nunique\"]})\n",
    "pop_res.columns = [\"_\".join(cols) for cols in pop_res.columns]"
   ]
  },
  {
   "cell_type": "code",
   "execution_count": null,
   "id": "frequent-motorcycle",
   "metadata": {
    "ExecuteTime": {
     "end_time": "2022-05-17T09:23:13.980055Z",
     "start_time": "2022-05-17T09:23:13.964437Z"
    }
   },
   "outputs": [],
   "source": [
    "pop_rec_df = pop_res.sort_values([\"rez_id_nunique\"], ascending=False).iloc[:10]"
   ]
  },
  {
   "cell_type": "code",
   "execution_count": null,
   "id": "american-steel",
   "metadata": {
    "ExecuteTime": {
     "end_time": "2022-05-17T09:23:14.011811Z",
     "start_time": "2022-05-17T09:23:13.998131Z"
    }
   },
   "outputs": [],
   "source": [
    "pop_rec = list(pop_rec_df.index)"
   ]
  },
  {
   "cell_type": "code",
   "execution_count": null,
   "id": "copyrighted-bloom",
   "metadata": {
    "ExecuteTime": {
     "end_time": "2022-05-17T09:23:14.219871Z",
     "start_time": "2022-05-17T09:23:14.204490Z"
    }
   },
   "outputs": [],
   "source": [
    "pop_rec"
   ]
  },
  {
   "cell_type": "markdown",
   "id": "incorporate-connectivity",
   "metadata": {},
   "source": [
    "# Persist model"
   ]
  },
  {
   "cell_type": "code",
   "execution_count": null,
   "id": "pressed-music",
   "metadata": {
    "ExecuteTime": {
     "end_time": "2022-05-17T09:23:37.287168Z",
     "start_time": "2022-05-17T09:23:35.532082Z"
    }
   },
   "outputs": [],
   "source": [
    "import pickle\n",
    "\n",
    "OUTPUT_MODEL_DIR = \"../models/lfm/\"\n",
    "!mkdir -p $OUTPUT_MODEL_DIR\n",
    "\n",
    "with open(OUTPUT_MODEL_DIR + \"lfm_model.pkl\", \"wb\") as f:\n",
    "    pickle.dump(model, f)\n",
    "\n",
    "with open(OUTPUT_MODEL_DIR + \"lfm_dataset.pkl\", \"wb\") as f:\n",
    "    pickle.dump(dataset, f)"
   ]
  },
  {
   "cell_type": "markdown",
   "id": "severe-fourth",
   "metadata": {},
   "source": [
    "## Load"
   ]
  },
  {
   "cell_type": "code",
   "execution_count": null,
   "id": "numerical-research",
   "metadata": {
    "ExecuteTime": {
     "end_time": "2022-05-17T09:23:38.694982Z",
     "start_time": "2022-05-17T09:23:38.643804Z"
    }
   },
   "outputs": [],
   "source": [
    "with open(OUTPUT_MODEL_DIR + \"lfm_model.pkl\", \"rb\") as f:\n",
    "    model = pickle.load(f)"
   ]
  },
  {
   "cell_type": "code",
   "execution_count": null,
   "id": "pharmaceutical-nevada",
   "metadata": {
    "ExecuteTime": {
     "end_time": "2022-05-17T09:23:39.746405Z",
     "start_time": "2022-05-17T09:23:39.561066Z"
    }
   },
   "outputs": [],
   "source": [
    "with open(OUTPUT_MODEL_DIR + \"lfm_dataset.pkl\", \"rb\") as f:\n",
    "    dataset = pickle.load(f)"
   ]
  },
  {
   "cell_type": "markdown",
   "id": "accessory-danish",
   "metadata": {},
   "source": [
    "# Predict"
   ]
  },
  {
   "cell_type": "markdown",
   "id": "continuing-thanks",
   "metadata": {},
   "source": [
    "## Predict individual"
   ]
  },
  {
   "cell_type": "code",
   "execution_count": null,
   "id": "sudden-coordinator",
   "metadata": {
    "ExecuteTime": {
     "end_time": "2022-05-17T09:23:41.299369Z",
     "start_time": "2022-05-17T09:23:41.189879Z"
    }
   },
   "outputs": [],
   "source": [
    "items_map = np.array(list(dataset.mapping()[2].keys()))\n",
    "users_map = np.array(list(dataset.mapping()[0].keys()))"
   ]
  },
  {
   "cell_type": "code",
   "execution_count": null,
   "id": "handed-rebel",
   "metadata": {
    "ExecuteTime": {
     "end_time": "2022-05-17T09:23:42.035923Z",
     "start_time": "2022-05-17T09:23:42.007993Z"
    }
   },
   "outputs": [],
   "source": [
    "users_map"
   ]
  },
  {
   "cell_type": "code",
   "execution_count": null,
   "id": "chubby-input",
   "metadata": {
    "ExecuteTime": {
     "end_time": "2022-05-17T09:23:42.213768Z",
     "start_time": "2022-05-17T09:23:42.182698Z"
    }
   },
   "outputs": [],
   "source": [
    "def sample_recommendation(model, user_ids, users_map, items_map, k: int):\n",
    "    n_items = len(items_map)\n",
    "    for user_id in user_ids:\n",
    "        scores = model.predict(user_id, np.arange(n_items))\n",
    "        top_items = items_map[np.argsort(-scores)]\n",
    "        user = users_map[user_id]\n",
    "        print(f\"Recommendations for user {user}:\")\n",
    "\n",
    "        for x in top_items[:k]:\n",
    "            print(\"   %s\" % x)"
   ]
  },
  {
   "cell_type": "code",
   "execution_count": null,
   "id": "french-chosen",
   "metadata": {
    "ExecuteTime": {
     "end_time": "2022-05-17T09:23:42.758247Z",
     "start_time": "2022-05-17T09:23:42.730934Z"
    },
    "scrolled": true
   },
   "outputs": [],
   "source": [
    "sample_recommendation(model, [10], users_map, items_map, k=10)"
   ]
  },
  {
   "cell_type": "markdown",
   "id": "sought-movement",
   "metadata": {},
   "source": [
    "# Persist model"
   ]
  },
  {
   "cell_type": "code",
   "execution_count": null,
   "id": "collected-compromise",
   "metadata": {
    "ExecuteTime": {
     "end_time": "2022-05-17T09:23:47.918667Z",
     "start_time": "2022-05-17T09:23:47.890066Z"
    }
   },
   "outputs": [],
   "source": [
    "%%writefile pop_rec_artifact.py\n",
    "\n",
    "import os\n",
    "from bentoml.utils import cloudpickle\n",
    "from bentoml.service.artifacts import BentoServiceArtifact\n",
    "\n",
    "\n",
    "class PopRecArtifact(BentoServiceArtifact):\n",
    "    def __init__(self, name):\n",
    "        super(PopRecArtifact, self).__init__(name)\n",
    "        self._model = None\n",
    "\n",
    "    def pack(self, model, metadata=None):\n",
    "        self._model = model\n",
    "        return self\n",
    "\n",
    "    def get(self):\n",
    "        return self._model\n",
    "\n",
    "    def save(self, directory):\n",
    "        path = self._file_path(directory)\n",
    "        with open(path, \"wb\") as file:\n",
    "            cloudpickle.dump(self._model, file)\n",
    "\n",
    "    def load(self, path):\n",
    "        with open(self._file_path(path), \"rb\") as file:\n",
    "            model = cloudpickle.load(file)\n",
    "        return self.pack(model)\n",
    "\n",
    "    def _file_path(self, base_path):\n",
    "        return os.path.join(base_path, self.name + \".pkl\")"
   ]
  },
  {
   "cell_type": "code",
   "execution_count": null,
   "id": "rising-paradise",
   "metadata": {
    "ExecuteTime": {
     "end_time": "2022-05-17T09:23:48.313773Z",
     "start_time": "2022-05-17T09:23:48.286015Z"
    }
   },
   "outputs": [],
   "source": [
    "%%writefile bento_lfm_artifacts.py\n",
    "\n",
    "import os\n",
    "from bentoml.utils import cloudpickle\n",
    "from bentoml.service.artifacts import BentoServiceArtifact\n",
    "\n",
    "\n",
    "class LightFMModelArtifact(BentoServiceArtifact):\n",
    "    def __init__(self, name):\n",
    "        super(LightFMModelArtifact, self).__init__(name)\n",
    "        self._model = None\n",
    "\n",
    "    def pack(self, model, metadata=None):\n",
    "        self._model = model\n",
    "        return self\n",
    "\n",
    "    def get(self):\n",
    "        return self._model\n",
    "\n",
    "    def save(self, directory):\n",
    "        path = self._file_path(directory)\n",
    "        with open(path, \"wb\") as file:\n",
    "            cloudpickle.dump(self._model, file)\n",
    "\n",
    "    def load(self, path):\n",
    "        with open(self._file_path(path), \"rb\") as file:\n",
    "            model = cloudpickle.load(file)\n",
    "        return self.pack(model)\n",
    "\n",
    "    def _file_path(self, base_path):\n",
    "        return os.path.join(base_path, self.name + \".pkl\")\n",
    "\n",
    "\n",
    "class LightFMDatasetArtifact(LightFMModelArtifact):\n",
    "    def __init__(self, name):\n",
    "        super(LightFMDatasetArtifact, self).__init__(name)\n",
    "        self._model = None"
   ]
  },
  {
   "cell_type": "code",
   "execution_count": null,
   "id": "mounted-burner",
   "metadata": {
    "ExecuteTime": {
     "end_time": "2022-05-17T09:23:48.516702Z",
     "start_time": "2022-05-17T09:23:48.485064Z"
    }
   },
   "outputs": [],
   "source": [
    "%%writefile bento_lfm_service.py\n",
    "\n",
    "from bento_lfm_artifacts import LightFMModelArtifact, LightFMDatasetArtifact\n",
    "from pop_rec_artifact import PopRecArtifact\n",
    "from bentoml import BentoService, env, api, artifacts\n",
    "from bentoml.adapters import JsonInput, JsonOutput\n",
    "from bentoml.exceptions import BadInput\n",
    "\n",
    "import numpy as np\n",
    "from string import punctuation\n",
    "\n",
    "\n",
    "@env(infer_pip_packages=True)\n",
    "@artifacts(\n",
    "    [\n",
    "        LightFMModelArtifact(name=\"model\"),\n",
    "        LightFMDatasetArtifact(name=\"dataset\"),\n",
    "        PopRecArtifact(name=\"pop_rec\"),\n",
    "    ]\n",
    ")\n",
    "class LightFMRecService(BentoService):\n",
    "    @api(input=JsonInput(), output=JsonOutput(), batch=True)\n",
    "    def recommend(self, input_data):\n",
    "        model = self.artifacts.model\n",
    "        pop_rec = self.artifacts.pop_rec\n",
    "        dataset = self.artifacts.dataset\n",
    "        items_map = dataset.mapping()[2]\n",
    "        users_map = dataset.mapping()[0]\n",
    "        if isinstance(input_data, dict):\n",
    "            input_data = [input_data]\n",
    "        if len(input_data) > 1:\n",
    "            return [{\"message\": BadInput(f\"input has too many elements\")}]\n",
    "        input_data = input_data[0]\n",
    "        if not isinstance(input_data, dict):\n",
    "            return [{\"message\": BadInput(f\"input type is not allowed\")}]\n",
    "        hashed_email = input_data.get('hashed_email')\n",
    "        if hashed_email is None or any(p in hashed_email for p in punctuation):\n",
    "            return [{\"message\": BadInput(f\"input {hashed_email} is not accepted\")}]\n",
    "        recommendations = self._recommend(\n",
    "            model, hashed_email, users_map, items_map, k=3, pop_rec=pop_rec\n",
    "        )\n",
    "        result = {\n",
    "            \"meta\": input_data,\n",
    "            \"data\": {\"recommendations\": recommendations},\n",
    "        }\n",
    "        return [result]\n",
    "\n",
    "    @staticmethod\n",
    "    def _recommend(model, user_id, users_map, items_map, k: int, pop_rec):\n",
    "        items_arr = np.array(list(items_map.keys()))\n",
    "        n_items = len(items_map)\n",
    "\n",
    "        _user_id = users_map.get(user_id)\n",
    "        if _user_id is None:\n",
    "            return pop_rec[:k]\n",
    "        scores = model.predict(_user_id, np.arange(n_items))\n",
    "        top_items = items_arr[np.argsort(-scores)]\n",
    "        return list(top_items[:k])\n"
   ]
  },
  {
   "cell_type": "code",
   "execution_count": null,
   "id": "separate-brand",
   "metadata": {
    "ExecuteTime": {
     "end_time": "2022-05-17T09:23:51.180571Z",
     "start_time": "2022-05-17T09:23:49.217446Z"
    }
   },
   "outputs": [],
   "source": [
    "from bento_lfm_service import LightFMRecService\n",
    "\n",
    "lfm_service = LightFMRecService()\n",
    "\n",
    "lfm_service.pack(\"model\", model)\n",
    "lfm_service.pack(\"dataset\", dataset)\n",
    "lfm_service.pack(\"pop_rec\", pop_rec)"
   ]
  },
  {
   "cell_type": "code",
   "execution_count": null,
   "id": "refined-contrast",
   "metadata": {
    "ExecuteTime": {
     "end_time": "2022-05-17T09:23:51.971073Z",
     "start_time": "2022-05-17T09:23:51.934563Z"
    }
   },
   "outputs": [],
   "source": [
    "lfm_service.recommend({'hashed_email': 'a'})"
   ]
  },
  {
   "cell_type": "markdown",
   "id": "twelve-jenny",
   "metadata": {},
   "source": [
    "# Save predict service to disk"
   ]
  },
  {
   "cell_type": "code",
   "execution_count": null,
   "id": "clean-timothy",
   "metadata": {
    "ExecuteTime": {
     "end_time": "2021-03-31T15:03:56.441628Z",
     "start_time": "2021-03-31T15:03:53.340969Z"
    }
   },
   "outputs": [],
   "source": [
    "saved_path = lfm_service.save(version=\"v0.1\")"
   ]
  },
  {
   "cell_type": "markdown",
   "id": "indoor-large",
   "metadata": {},
   "source": [
    "# REST API Model Serving"
   ]
  },
  {
   "cell_type": "code",
   "execution_count": null,
   "id": "vanilla-accommodation",
   "metadata": {
    "ExecuteTime": {
     "end_time": "2021-03-31T15:04:58.653581Z",
     "start_time": "2021-03-31T15:03:59.951371Z"
    }
   },
   "outputs": [],
   "source": [
    "!bentoml serve LightFMRecService:v0.1"
   ]
  },
  {
   "cell_type": "markdown",
   "id": "decent-yacht",
   "metadata": {},
   "source": [
    "# Predict for all users"
   ]
  },
  {
   "cell_type": "code",
   "execution_count": null,
   "id": "featured-planet",
   "metadata": {
    "ExecuteTime": {
     "end_time": "2021-03-30T05:07:17.023966Z",
     "start_time": "2021-03-30T05:07:17.021764Z"
    }
   },
   "outputs": [],
   "source": [
    "def chunks(lst, n):\n",
    "    \"\"\"Yield successive n-sized chunks from lst.\"\"\"\n",
    "    for i in range(0, len(lst), n):\n",
    "        yield lst[i:i + n]"
   ]
  },
  {
   "cell_type": "code",
   "execution_count": null,
   "id": "desperate-madonna",
   "metadata": {
    "ExecuteTime": {
     "end_time": "2021-03-30T06:24:50.382164Z",
     "start_time": "2021-03-30T06:24:50.376507Z"
    }
   },
   "outputs": [],
   "source": [
    "CHUNK_SIZE = 10000\n",
    "\n",
    "_item_ids = np.arange(dataset.item_features_shape()[0])\n",
    "_user_ids = chunks(np.arange(dataset.user_features_shape()[0]), CHUNK_SIZE)"
   ]
  },
  {
   "cell_type": "code",
   "execution_count": null,
   "id": "going-sessions",
   "metadata": {
    "ExecuteTime": {
     "end_time": "2021-03-30T05:07:17.031604Z",
     "start_time": "2021-03-30T05:07:17.027825Z"
    }
   },
   "outputs": [],
   "source": [
    "def lfm_predict(model, user_ids, item_ids, k: int):\n",
    "    user_ids_ = np.repeat(np.int32(user_ids), len(item_ids))\n",
    "    item_ids_ = np.int32(np.tile(item_ids, len(user_ids)))\n",
    "    predictions = model.predict(user_ids_, item_ids_)\n",
    "    predictions_df = pd.DataFrame({'user_id': user_ids_, 'item_id': item_ids_, 'score': predictions })\n",
    "    output = predictions_df.sort_values('score', ascending=False).groupby(['user_id']).head(k)\n",
    "    return output"
   ]
  },
  {
   "cell_type": "code",
   "execution_count": null,
   "id": "material-fusion",
   "metadata": {
    "ExecuteTime": {
     "end_time": "2021-03-30T05:14:38.521263Z",
     "start_time": "2021-03-30T05:07:17.033708Z"
    }
   },
   "outputs": [],
   "source": [
    "OUTPUT_PRED_DIR = \"../data/output\"\n",
    "i = 0\n",
    "for _uids in tqdm(_user_ids):\n",
    "    uids = list(_uids)\n",
    "    _output = lfm_predict(model, uids, _item_ids, k=10)\n",
    "    output_fpath = f'{OUTPUT_PRED_DIR}/output_predictions_{str(i).zfill(4)}.parquet'\n",
    "    print(f\"Saving {output_fpath}\")\n",
    "    _output.to_parquet(output_fpath)\n",
    "    i += 1"
   ]
  }
 ],
 "metadata": {
  "kernelspec": {
   "display_name": "Python 3",
   "language": "python",
   "name": "python3"
  },
  "language_info": {
   "codemirror_mode": {
    "name": "ipython",
    "version": 3
   },
   "file_extension": ".py",
   "mimetype": "text/x-python",
   "name": "python",
   "nbconvert_exporter": "python",
   "pygments_lexer": "ipython3",
   "version": "3.8.3"
  },
  "toc": {
   "base_numbering": 1,
   "nav_menu": {},
   "number_sections": true,
   "sideBar": true,
   "skip_h1_title": false,
   "title_cell": "Table of Contents",
   "title_sidebar": "Contents",
   "toc_cell": false,
   "toc_position": {
    "height": "calc(100% - 180px)",
    "left": "10px",
    "top": "150px",
    "width": "320px"
   },
   "toc_section_display": true,
   "toc_window_display": true
  }
 },
 "nbformat": 4,
 "nbformat_minor": 5
}
