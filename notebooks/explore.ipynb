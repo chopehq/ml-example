{
 "cells": [
  {
   "cell_type": "code",
   "execution_count": 4,
   "id": "residential-antarctica",
   "metadata": {
    "ExecuteTime": {
     "end_time": "2021-03-31T11:50:38.133109Z",
     "start_time": "2021-03-31T11:50:37.510096Z"
    }
   },
   "outputs": [
    {
     "name": "stderr",
     "output_type": "stream",
     "text": [
      "<ipython-input-4-ce1d48c98591>:8: TqdmExperimentalWarning: Using `tqdm.autonotebook.tqdm` in notebook mode. Use `tqdm.tqdm` instead to force console mode (e.g. in jupyter console)\n",
      "  from tqdm.autonotebook import tqdm\n"
     ]
    }
   ],
   "source": [
    "%load_ext autoreload\n",
    "%autoreload 2\n",
    "%matplotlib inline\n",
    "\n",
    "import os\n",
    "\n",
    "import pandas as pd\n",
    "from tqdm.autonotebook import tqdm\n",
    "\n",
    "tqdm.pandas()"
   ]
  },
  {
   "cell_type": "markdown",
   "id": "instrumental-grounds",
   "metadata": {},
   "source": [
    "# How to use this notebook \n",
    "- This notebook describes in words my approach to Task 3: Restaurant Recommendation System \n",
    "- It contains some EDA and is a playground for my experiments\n",
    "- This notebook can be executed from top to bottom to arrive at a served service\n",
    "- However, the requested source codes for solution should be found at `../pipeline/`. Instructions on how to run are in README.md"
   ]
  },
  {
   "cell_type": "markdown",
   "id": "aggregate-foster",
   "metadata": {},
   "source": [
    "# Approach to train a Restaurant Recommender\n",
    "\n",
    "## Choose method\n",
    "- I came across <a href=\"https://arxiv.org/abs/1507.08439\">LightFM paper</a> months ago and was fascinated about how intuitive it is. Based on that paper, LightFM does not only able to incorporate metadata from users and items, it also is capable of outputing semantics embeddings. Furthermore, LightFM is made to exploit implicit feedback, which is the type of rating we have for this problem.\n",
    "- Apart from LightFM, a content-based recommendation system comes top of my mind as I see the sparse interactions where 75% of our users are one-off.\n",
    "    \n",
    "## Define rating\n",
    "- There are three kinds of rating I have tried:\n",
    "    - The count number of reservations\n",
    "    - The weigthed count number of reservations (based on both average of that user and average of that restaurant)\n",
    "    - A random rating, to estimate impact of rating on our performance metrics (AUC and Precision At K)\n",
    "- Since the experimental result suggests no significant change in performance w.r.t. to rating calculation, the final model sticks with the basic one (count reservations).\n",
    "\n",
    "## Split train test\n",
    "- As in this scope I don't exploit contextual information to recommend, I try to model the taste of users.\n",
    "- Given the above objective, I apply a simple ratings drop-out for test set\n",
    "\n",
    "## Fit model\n",
    "- LightFM offers a variety of hyper-parameters. Reading the docs gives me enough information to select a decent default parameter including `loss='warp'` and `n_components=50`.\n",
    "- I try some quick random searches and find no significant improvement.\n",
    "- I try incorporating the categorical metadata of restaurants as features, but no significance found either.\n",
    "- Therefore, I believe that the next experiment should be to re-examine the way we feed data into model training. Then to change the input and maybe combine other approaches.\n",
    "\n",
    "## Serve model\n",
    "- As the time of this writing, BentoML is a new (2 years old) and promising open-source package to help us ship our model.\n",
    "- As BentoML has not yet introduced a pre-defined framework for LightFM, I implement two custom artifacts to encapsulate LightFM modeling objects: dataset and model. It is convenient that the LightFM artifacts can be persisted using Python `pickle` package (just like Scikit-Learn).\n",
    "- In case input user not found by LightFM model, there is a Popular Recommender as fallback\n",
    "\n",
    "## Shipping\n",
    "- As they are shared many environment requirements, I extend the bentoml docker image to build a new one ready to run our scripts\n",
    "- The training outputs artifacts to a shared volume so that later processes can pick up\n",
    "\n",
    "## Next step\n",
    "- As mentioned above, the approach to building recommendation should be revisited. Ideally recommendations should incorporate contextual information and can have many different models.\n",
    "- Precomputation should also be exploited whenever possible. For this type of problem, we normally know in advanced our input information (unlike service that can predict animals from random user uploading images). This make recommendations possible to be precomputed and reduce the work load of our service.\n",
    "- To orchestrate the precomputation workflow, we should consider offline, nearline and online computing jobs."
   ]
  },
  {
   "cell_type": "markdown",
   "id": "provincial-document",
   "metadata": {},
   "source": [
    "# Load data"
   ]
  },
  {
   "cell_type": "code",
   "execution_count": 5,
   "id": "essential-syndrome",
   "metadata": {
    "ExecuteTime": {
     "end_time": "2021-03-31T11:50:38.142269Z",
     "start_time": "2021-03-31T11:50:38.134190Z"
    }
   },
   "outputs": [],
   "source": [
    "DATA_RAW_DIR = \"../data/datasets/\""
   ]
  },
  {
   "cell_type": "code",
   "execution_count": 6,
   "id": "running-cliff",
   "metadata": {
    "ExecuteTime": {
     "end_time": "2021-03-31T11:50:38.772471Z",
     "start_time": "2021-03-31T11:50:38.143553Z"
    }
   },
   "outputs": [],
   "source": [
    "rez_df = pd.read_csv(DATA_RAW_DIR + \"reservations.csv\", dtype={\"rez_id\": str})\n",
    "\n",
    "rez_df[\"reservation_time\"] = pd.to_datetime(\n",
    "    rez_df[\"reservation_time\"], unit=\"s\", utc=True\n",
    ")\n",
    "rez_df[\"booking_time\"] = pd.to_datetime(rez_df[\"booking_time\"], unit=\"s\", utc=True)"
   ]
  },
  {
   "cell_type": "code",
   "execution_count": 7,
   "id": "statewide-reply",
   "metadata": {
    "ExecuteTime": {
     "end_time": "2021-03-31T11:50:38.794595Z",
     "start_time": "2021-03-31T11:50:38.773730Z"
    },
    "scrolled": true
   },
   "outputs": [
    {
     "data": {
      "text/html": [
       "<div>\n",
       "<style scoped>\n",
       "    .dataframe tbody tr th:only-of-type {\n",
       "        vertical-align: middle;\n",
       "    }\n",
       "\n",
       "    .dataframe tbody tr th {\n",
       "        vertical-align: top;\n",
       "    }\n",
       "\n",
       "    .dataframe thead th {\n",
       "        text-align: right;\n",
       "    }\n",
       "</style>\n",
       "<table border=\"1\" class=\"dataframe\">\n",
       "  <thead>\n",
       "    <tr style=\"text-align: right;\">\n",
       "      <th></th>\n",
       "      <th>rez_id</th>\n",
       "      <th>RestaurantUID</th>\n",
       "      <th>hashed_email</th>\n",
       "      <th>reservation_time</th>\n",
       "      <th>adults</th>\n",
       "      <th>children</th>\n",
       "      <th>client_type</th>\n",
       "      <th>booking_time</th>\n",
       "      <th>country_code</th>\n",
       "    </tr>\n",
       "  </thead>\n",
       "  <tbody>\n",
       "    <tr>\n",
       "      <th>0</th>\n",
       "      <td>22LSM</td>\n",
       "      <td>13gastrowine1603gas</td>\n",
       "      <td>845609244659738b8e6344566d4110c1</td>\n",
       "      <td>2017-10-06 11:30:00+00:00</td>\n",
       "      <td>2</td>\n",
       "      <td>0</td>\n",
       "      <td>v3.3.3</td>\n",
       "      <td>2017-10-02 07:50:50+00:00</td>\n",
       "      <td>SG</td>\n",
       "    </tr>\n",
       "    <tr>\n",
       "      <th>1</th>\n",
       "      <td>22PC3</td>\n",
       "      <td>13gastrowine1603gas</td>\n",
       "      <td>122666f2210822f97e1754882caeb6f8</td>\n",
       "      <td>2017-10-06 13:45:00+00:00</td>\n",
       "      <td>3</td>\n",
       "      <td>0</td>\n",
       "      <td>v3.3.5</td>\n",
       "      <td>2017-10-03 00:28:49+00:00</td>\n",
       "      <td>SG</td>\n",
       "    </tr>\n",
       "    <tr>\n",
       "      <th>2</th>\n",
       "      <td>22RLN</td>\n",
       "      <td>13gastrowine1603gas</td>\n",
       "      <td>61ffd1c30c2d23acf9f28773a4ae6a46</td>\n",
       "      <td>2017-10-06 12:45:00+00:00</td>\n",
       "      <td>6</td>\n",
       "      <td>0</td>\n",
       "      <td>Mac OS X/Safari 602.1</td>\n",
       "      <td>2017-10-03 06:22:38+00:00</td>\n",
       "      <td>SG</td>\n",
       "    </tr>\n",
       "    <tr>\n",
       "      <th>3</th>\n",
       "      <td>22TUY</td>\n",
       "      <td>13gastrowine1603gas</td>\n",
       "      <td>20315e9c1bc332b95c4696e3c2b89299</td>\n",
       "      <td>2017-10-05 12:00:00+00:00</td>\n",
       "      <td>2</td>\n",
       "      <td>0</td>\n",
       "      <td>Mac OS X/Safari 603.2.5</td>\n",
       "      <td>2017-10-03 10:49:02+00:00</td>\n",
       "      <td>SG</td>\n",
       "    </tr>\n",
       "    <tr>\n",
       "      <th>4</th>\n",
       "      <td>22UN9</td>\n",
       "      <td>13gastrowine1603gas</td>\n",
       "      <td>02cb147aef506aae301e94e588187828</td>\n",
       "      <td>2017-10-06 13:45:00+00:00</td>\n",
       "      <td>2</td>\n",
       "      <td>0</td>\n",
       "      <td>Mac OS X/Safari 604.1</td>\n",
       "      <td>2017-10-03 12:20:31+00:00</td>\n",
       "      <td>SG</td>\n",
       "    </tr>\n",
       "    <tr>\n",
       "      <th>...</th>\n",
       "      <td>...</td>\n",
       "      <td>...</td>\n",
       "      <td>...</td>\n",
       "      <td>...</td>\n",
       "      <td>...</td>\n",
       "      <td>...</td>\n",
       "      <td>...</td>\n",
       "      <td>...</td>\n",
       "      <td>...</td>\n",
       "    </tr>\n",
       "    <tr>\n",
       "      <th>517307</th>\n",
       "      <td>2IP8K</td>\n",
       "      <td>zuccchero1704zce</td>\n",
       "      <td>1576eb0c3a25b4ae32453ff04ade9efb</td>\n",
       "      <td>2018-02-17 07:15:00+00:00</td>\n",
       "      <td>2</td>\n",
       "      <td>0</td>\n",
       "      <td>Mac OS X/Safari 604.1</td>\n",
       "      <td>2017-12-26 17:48:27+00:00</td>\n",
       "      <td>HK</td>\n",
       "    </tr>\n",
       "    <tr>\n",
       "      <th>517308</th>\n",
       "      <td>2IT6F</td>\n",
       "      <td>zuccchero1704zce</td>\n",
       "      <td>811fd29ddfa727179fe5d47bf1f6ebf8</td>\n",
       "      <td>2017-12-28 07:15:00+00:00</td>\n",
       "      <td>2</td>\n",
       "      <td>0</td>\n",
       "      <td>Mac OS X/Safari 604.1</td>\n",
       "      <td>2017-12-27 08:07:19+00:00</td>\n",
       "      <td>HK</td>\n",
       "    </tr>\n",
       "    <tr>\n",
       "      <th>517309</th>\n",
       "      <td>2JDW6</td>\n",
       "      <td>zuccchero1704zce</td>\n",
       "      <td>86a5fefe284072752f4fd605a0b0442f</td>\n",
       "      <td>2017-12-31 07:30:00+00:00</td>\n",
       "      <td>2</td>\n",
       "      <td>0</td>\n",
       "      <td>Windows 7/Chrome 63.0.3239.108</td>\n",
       "      <td>2017-12-29 15:10:19+00:00</td>\n",
       "      <td>HK</td>\n",
       "    </tr>\n",
       "    <tr>\n",
       "      <th>517310</th>\n",
       "      <td>2JF95</td>\n",
       "      <td>zuccchero1704zce</td>\n",
       "      <td>88592eda80504476f51d7183e736bc9e</td>\n",
       "      <td>2018-01-04 06:45:00+00:00</td>\n",
       "      <td>2</td>\n",
       "      <td>0</td>\n",
       "      <td>Mac OS X/Safari 602.1</td>\n",
       "      <td>2017-12-30 03:22:26+00:00</td>\n",
       "      <td>HK</td>\n",
       "    </tr>\n",
       "    <tr>\n",
       "      <th>517311</th>\n",
       "      <td>2JGO9</td>\n",
       "      <td>zuccchero1704zce</td>\n",
       "      <td>2d7b517246188777a04f3710fb8d2123</td>\n",
       "      <td>2017-12-31 07:30:00+00:00</td>\n",
       "      <td>2</td>\n",
       "      <td>0</td>\n",
       "      <td>Mac OS X/Safari 604.1</td>\n",
       "      <td>2017-12-30 05:45:05+00:00</td>\n",
       "      <td>HK</td>\n",
       "    </tr>\n",
       "  </tbody>\n",
       "</table>\n",
       "<p>517312 rows × 9 columns</p>\n",
       "</div>"
      ],
      "text/plain": [
       "       rez_id        RestaurantUID                      hashed_email  \\\n",
       "0       22LSM  13gastrowine1603gas  845609244659738b8e6344566d4110c1   \n",
       "1       22PC3  13gastrowine1603gas  122666f2210822f97e1754882caeb6f8   \n",
       "2       22RLN  13gastrowine1603gas  61ffd1c30c2d23acf9f28773a4ae6a46   \n",
       "3       22TUY  13gastrowine1603gas  20315e9c1bc332b95c4696e3c2b89299   \n",
       "4       22UN9  13gastrowine1603gas  02cb147aef506aae301e94e588187828   \n",
       "...       ...                  ...                               ...   \n",
       "517307  2IP8K     zuccchero1704zce  1576eb0c3a25b4ae32453ff04ade9efb   \n",
       "517308  2IT6F     zuccchero1704zce  811fd29ddfa727179fe5d47bf1f6ebf8   \n",
       "517309  2JDW6     zuccchero1704zce  86a5fefe284072752f4fd605a0b0442f   \n",
       "517310  2JF95     zuccchero1704zce  88592eda80504476f51d7183e736bc9e   \n",
       "517311  2JGO9     zuccchero1704zce  2d7b517246188777a04f3710fb8d2123   \n",
       "\n",
       "                reservation_time  adults  children  \\\n",
       "0      2017-10-06 11:30:00+00:00       2         0   \n",
       "1      2017-10-06 13:45:00+00:00       3         0   \n",
       "2      2017-10-06 12:45:00+00:00       6         0   \n",
       "3      2017-10-05 12:00:00+00:00       2         0   \n",
       "4      2017-10-06 13:45:00+00:00       2         0   \n",
       "...                          ...     ...       ...   \n",
       "517307 2018-02-17 07:15:00+00:00       2         0   \n",
       "517308 2017-12-28 07:15:00+00:00       2         0   \n",
       "517309 2017-12-31 07:30:00+00:00       2         0   \n",
       "517310 2018-01-04 06:45:00+00:00       2         0   \n",
       "517311 2017-12-31 07:30:00+00:00       2         0   \n",
       "\n",
       "                           client_type              booking_time country_code  \n",
       "0                               v3.3.3 2017-10-02 07:50:50+00:00           SG  \n",
       "1                               v3.3.5 2017-10-03 00:28:49+00:00           SG  \n",
       "2                Mac OS X/Safari 602.1 2017-10-03 06:22:38+00:00           SG  \n",
       "3              Mac OS X/Safari 603.2.5 2017-10-03 10:49:02+00:00           SG  \n",
       "4                Mac OS X/Safari 604.1 2017-10-03 12:20:31+00:00           SG  \n",
       "...                                ...                       ...          ...  \n",
       "517307           Mac OS X/Safari 604.1 2017-12-26 17:48:27+00:00           HK  \n",
       "517308           Mac OS X/Safari 604.1 2017-12-27 08:07:19+00:00           HK  \n",
       "517309  Windows 7/Chrome 63.0.3239.108 2017-12-29 15:10:19+00:00           HK  \n",
       "517310           Mac OS X/Safari 602.1 2017-12-30 03:22:26+00:00           HK  \n",
       "517311           Mac OS X/Safari 604.1 2017-12-30 05:45:05+00:00           HK  \n",
       "\n",
       "[517312 rows x 9 columns]"
      ]
     },
     "execution_count": 7,
     "metadata": {},
     "output_type": "execute_result"
    }
   ],
   "source": [
    "rez_df"
   ]
  },
  {
   "cell_type": "markdown",
   "id": "dynamic-maximum",
   "metadata": {},
   "source": [
    "# EDA"
   ]
  },
  {
   "cell_type": "markdown",
   "id": "potential-differential",
   "metadata": {},
   "source": [
    "## Identify low-frequency restaurants"
   ]
  },
  {
   "cell_type": "markdown",
   "id": "military-structure",
   "metadata": {},
   "source": [
    "Assumption: Those low-frequency restaurants are not safe to recommend because we know little about them."
   ]
  },
  {
   "cell_type": "code",
   "execution_count": 8,
   "id": "australian-approach",
   "metadata": {
    "ExecuteTime": {
     "end_time": "2021-03-31T11:50:39.075837Z",
     "start_time": "2021-03-31T11:50:38.795744Z"
    }
   },
   "outputs": [],
   "source": [
    "res_freq = rez_df.groupby([\"RestaurantUID\"]).agg(\n",
    "    {\"rez_id\": [\"nunique\"], \"hashed_email\": [\"nunique\"]}\n",
    ")\n",
    "res_freq.columns = [\"_\".join(col).strip() for col in res_freq.columns.values]"
   ]
  },
  {
   "cell_type": "code",
   "execution_count": 9,
   "id": "going-canberra",
   "metadata": {
    "ExecuteTime": {
     "end_time": "2021-03-31T11:50:39.096002Z",
     "start_time": "2021-03-31T11:50:39.078103Z"
    }
   },
   "outputs": [
    {
     "data": {
      "text/html": [
       "<div>\n",
       "<style scoped>\n",
       "    .dataframe tbody tr th:only-of-type {\n",
       "        vertical-align: middle;\n",
       "    }\n",
       "\n",
       "    .dataframe tbody tr th {\n",
       "        vertical-align: top;\n",
       "    }\n",
       "\n",
       "    .dataframe thead th {\n",
       "        text-align: right;\n",
       "    }\n",
       "</style>\n",
       "<table border=\"1\" class=\"dataframe\">\n",
       "  <thead>\n",
       "    <tr style=\"text-align: right;\">\n",
       "      <th></th>\n",
       "      <th>count</th>\n",
       "      <th>mean</th>\n",
       "      <th>std</th>\n",
       "      <th>min</th>\n",
       "      <th>5%</th>\n",
       "      <th>10%</th>\n",
       "      <th>20%</th>\n",
       "      <th>50%</th>\n",
       "      <th>75%</th>\n",
       "      <th>max</th>\n",
       "    </tr>\n",
       "  </thead>\n",
       "  <tbody>\n",
       "    <tr>\n",
       "      <th>rez_id_nunique</th>\n",
       "      <td>2317.0</td>\n",
       "      <td>223.258524</td>\n",
       "      <td>499.361867</td>\n",
       "      <td>1.0</td>\n",
       "      <td>2.0</td>\n",
       "      <td>5.0</td>\n",
       "      <td>12.2</td>\n",
       "      <td>68.0</td>\n",
       "      <td>207.0</td>\n",
       "      <td>8867.0</td>\n",
       "    </tr>\n",
       "    <tr>\n",
       "      <th>hashed_email_nunique</th>\n",
       "      <td>2317.0</td>\n",
       "      <td>199.556323</td>\n",
       "      <td>446.767606</td>\n",
       "      <td>1.0</td>\n",
       "      <td>2.0</td>\n",
       "      <td>4.0</td>\n",
       "      <td>11.0</td>\n",
       "      <td>62.0</td>\n",
       "      <td>192.0</td>\n",
       "      <td>8045.0</td>\n",
       "    </tr>\n",
       "  </tbody>\n",
       "</table>\n",
       "</div>"
      ],
      "text/plain": [
       "                       count        mean         std  min   5%  10%   20%  \\\n",
       "rez_id_nunique        2317.0  223.258524  499.361867  1.0  2.0  5.0  12.2   \n",
       "hashed_email_nunique  2317.0  199.556323  446.767606  1.0  2.0  4.0  11.0   \n",
       "\n",
       "                       50%    75%     max  \n",
       "rez_id_nunique        68.0  207.0  8867.0  \n",
       "hashed_email_nunique  62.0  192.0  8045.0  "
      ]
     },
     "execution_count": 9,
     "metadata": {},
     "output_type": "execute_result"
    }
   ],
   "source": [
    "res_freq.describe(include=\"all\", percentiles=[0.05, 0.1, 0.2, 0.5, 0.75]).T"
   ]
  },
  {
   "cell_type": "markdown",
   "id": "treated-shelter",
   "metadata": {},
   "source": [
    "If we recommend only restaurants that have more than 10 users visited, we drop about 20% restaurants."
   ]
  },
  {
   "cell_type": "markdown",
   "id": "moral-collection",
   "metadata": {},
   "source": [
    "## Identify low-frequency users"
   ]
  },
  {
   "cell_type": "code",
   "execution_count": 10,
   "id": "annual-tobago",
   "metadata": {
    "ExecuteTime": {
     "end_time": "2021-03-31T11:50:39.728035Z",
     "start_time": "2021-03-31T11:50:39.096971Z"
    }
   },
   "outputs": [],
   "source": [
    "user_freq = rez_df.groupby([\"hashed_email\"]).agg(\n",
    "    {\"rez_id\": [\"nunique\"], \"RestaurantUID\": [\"nunique\"]}\n",
    ")\n",
    "user_freq.columns = [\"_\".join(col).strip() for col in user_freq.columns.values]"
   ]
  },
  {
   "cell_type": "code",
   "execution_count": 11,
   "id": "expected-dining",
   "metadata": {
    "ExecuteTime": {
     "end_time": "2021-03-31T11:50:39.751834Z",
     "start_time": "2021-03-31T11:50:39.729033Z"
    }
   },
   "outputs": [
    {
     "data": {
      "text/html": [
       "<div>\n",
       "<style scoped>\n",
       "    .dataframe tbody tr th:only-of-type {\n",
       "        vertical-align: middle;\n",
       "    }\n",
       "\n",
       "    .dataframe tbody tr th {\n",
       "        vertical-align: top;\n",
       "    }\n",
       "\n",
       "    .dataframe thead th {\n",
       "        text-align: right;\n",
       "    }\n",
       "</style>\n",
       "<table border=\"1\" class=\"dataframe\">\n",
       "  <thead>\n",
       "    <tr style=\"text-align: right;\">\n",
       "      <th></th>\n",
       "      <th>count</th>\n",
       "      <th>mean</th>\n",
       "      <th>std</th>\n",
       "      <th>min</th>\n",
       "      <th>25%</th>\n",
       "      <th>50%</th>\n",
       "      <th>75%</th>\n",
       "      <th>80%</th>\n",
       "      <th>90%</th>\n",
       "      <th>max</th>\n",
       "    </tr>\n",
       "  </thead>\n",
       "  <tbody>\n",
       "    <tr>\n",
       "      <th>rez_id_nunique</th>\n",
       "      <td>318372.0</td>\n",
       "      <td>1.624515</td>\n",
       "      <td>2.478695</td>\n",
       "      <td>1.0</td>\n",
       "      <td>1.0</td>\n",
       "      <td>1.0</td>\n",
       "      <td>2.0</td>\n",
       "      <td>2.0</td>\n",
       "      <td>3.0</td>\n",
       "      <td>488.0</td>\n",
       "    </tr>\n",
       "    <tr>\n",
       "      <th>RestaurantUID_nunique</th>\n",
       "      <td>318372.0</td>\n",
       "      <td>1.452301</td>\n",
       "      <td>1.354262</td>\n",
       "      <td>1.0</td>\n",
       "      <td>1.0</td>\n",
       "      <td>1.0</td>\n",
       "      <td>1.0</td>\n",
       "      <td>2.0</td>\n",
       "      <td>2.0</td>\n",
       "      <td>84.0</td>\n",
       "    </tr>\n",
       "  </tbody>\n",
       "</table>\n",
       "</div>"
      ],
      "text/plain": [
       "                          count      mean       std  min  25%  50%  75%  80%  \\\n",
       "rez_id_nunique         318372.0  1.624515  2.478695  1.0  1.0  1.0  2.0  2.0   \n",
       "RestaurantUID_nunique  318372.0  1.452301  1.354262  1.0  1.0  1.0  1.0  2.0   \n",
       "\n",
       "                       90%    max  \n",
       "rez_id_nunique         3.0  488.0  \n",
       "RestaurantUID_nunique  2.0   84.0  "
      ]
     },
     "execution_count": 11,
     "metadata": {},
     "output_type": "execute_result"
    }
   ],
   "source": [
    "user_freq.describe(include=\"all\", percentiles=[0.25, 0.5, 0.75, 0.8, 0.9]).T"
   ]
  },
  {
   "cell_type": "markdown",
   "id": "recovered-occurrence",
   "metadata": {},
   "source": [
    "If we apply LightFM to recommend for only users visiting more than 1 restaurant, we will not touch 75% of our uses! This finding also indicates that we suffer from cold-start problem and might need to add a content-based recommender system to handle."
   ]
  },
  {
   "cell_type": "markdown",
   "id": "present-ethernet",
   "metadata": {},
   "source": [
    "# Preprocess"
   ]
  },
  {
   "cell_type": "markdown",
   "id": "ahead-electricity",
   "metadata": {},
   "source": [
    "## Count reservations as rating"
   ]
  },
  {
   "cell_type": "code",
   "execution_count": 12,
   "id": "consolidated-tribe",
   "metadata": {
    "ExecuteTime": {
     "end_time": "2021-03-31T11:50:40.457063Z",
     "start_time": "2021-03-31T11:50:39.752826Z"
    }
   },
   "outputs": [
    {
     "data": {
      "text/html": [
       "<div>\n",
       "<style scoped>\n",
       "    .dataframe tbody tr th:only-of-type {\n",
       "        vertical-align: middle;\n",
       "    }\n",
       "\n",
       "    .dataframe tbody tr th {\n",
       "        vertical-align: top;\n",
       "    }\n",
       "\n",
       "    .dataframe thead th {\n",
       "        text-align: right;\n",
       "    }\n",
       "</style>\n",
       "<table border=\"1\" class=\"dataframe\">\n",
       "  <thead>\n",
       "    <tr style=\"text-align: right;\">\n",
       "      <th></th>\n",
       "      <th>hashed_email</th>\n",
       "      <th>RestaurantUID</th>\n",
       "      <th>rez_id_nunique</th>\n",
       "    </tr>\n",
       "  </thead>\n",
       "  <tbody>\n",
       "    <tr>\n",
       "      <th>0</th>\n",
       "      <td>000016d31b46d5b64dec58ace9f0720d</td>\n",
       "      <td>4284</td>\n",
       "      <td>2</td>\n",
       "    </tr>\n",
       "    <tr>\n",
       "      <th>1</th>\n",
       "      <td>000016d31b46d5b64dec58ace9f0720d</td>\n",
       "      <td>4634</td>\n",
       "      <td>3</td>\n",
       "    </tr>\n",
       "    <tr>\n",
       "      <th>2</th>\n",
       "      <td>000016d31b46d5b64dec58ace9f0720d</td>\n",
       "      <td>basilico47fsa86a-4</td>\n",
       "      <td>1</td>\n",
       "    </tr>\n",
       "    <tr>\n",
       "      <th>3</th>\n",
       "      <td>000016d31b46d5b64dec58ace9f0720d</td>\n",
       "      <td>buonaterra1605buo</td>\n",
       "      <td>1</td>\n",
       "    </tr>\n",
       "    <tr>\n",
       "      <th>4</th>\n",
       "      <td>000016d31b46d5b64dec58ace9f0720d</td>\n",
       "      <td>cassia1510css</td>\n",
       "      <td>1</td>\n",
       "    </tr>\n",
       "    <tr>\n",
       "      <th>...</th>\n",
       "      <td>...</td>\n",
       "      <td>...</td>\n",
       "      <td>...</td>\n",
       "    </tr>\n",
       "    <tr>\n",
       "      <th>462367</th>\n",
       "      <td>fffe20dee903920274ac39c2953e85d0</td>\n",
       "      <td>pizzafabbrica1412pfb</td>\n",
       "      <td>1</td>\n",
       "    </tr>\n",
       "    <tr>\n",
       "      <th>462368</th>\n",
       "      <td>fffe283d87726f83f8d2aff9d351c74d</td>\n",
       "      <td>truebluecuisine1712tbc</td>\n",
       "      <td>1</td>\n",
       "    </tr>\n",
       "    <tr>\n",
       "      <th>462369</th>\n",
       "      <td>fffefc6fe6dc2e68448207a63b058c74</td>\n",
       "      <td>lawrystheprimerib1607lpr</td>\n",
       "      <td>1</td>\n",
       "    </tr>\n",
       "    <tr>\n",
       "      <th>462370</th>\n",
       "      <td>ffff8e009ade13a7a04140bb76306ae2</td>\n",
       "      <td>shinminorijapaneseks1710sks</td>\n",
       "      <td>1</td>\n",
       "    </tr>\n",
       "    <tr>\n",
       "      <th>462371</th>\n",
       "      <td>ffffd8a2426ea89ee020c00c71f90653</td>\n",
       "      <td>cordistheplace1603ctp</td>\n",
       "      <td>1</td>\n",
       "    </tr>\n",
       "  </tbody>\n",
       "</table>\n",
       "<p>462372 rows × 3 columns</p>\n",
       "</div>"
      ],
      "text/plain": [
       "                            hashed_email                RestaurantUID  \\\n",
       "0       000016d31b46d5b64dec58ace9f0720d                         4284   \n",
       "1       000016d31b46d5b64dec58ace9f0720d                         4634   \n",
       "2       000016d31b46d5b64dec58ace9f0720d           basilico47fsa86a-4   \n",
       "3       000016d31b46d5b64dec58ace9f0720d            buonaterra1605buo   \n",
       "4       000016d31b46d5b64dec58ace9f0720d                cassia1510css   \n",
       "...                                  ...                          ...   \n",
       "462367  fffe20dee903920274ac39c2953e85d0         pizzafabbrica1412pfb   \n",
       "462368  fffe283d87726f83f8d2aff9d351c74d       truebluecuisine1712tbc   \n",
       "462369  fffefc6fe6dc2e68448207a63b058c74     lawrystheprimerib1607lpr   \n",
       "462370  ffff8e009ade13a7a04140bb76306ae2  shinminorijapaneseks1710sks   \n",
       "462371  ffffd8a2426ea89ee020c00c71f90653        cordistheplace1603ctp   \n",
       "\n",
       "        rez_id_nunique  \n",
       "0                    2  \n",
       "1                    3  \n",
       "2                    1  \n",
       "3                    1  \n",
       "4                    1  \n",
       "...                ...  \n",
       "462367               1  \n",
       "462368               1  \n",
       "462369               1  \n",
       "462370               1  \n",
       "462371               1  \n",
       "\n",
       "[462372 rows x 3 columns]"
      ]
     },
     "execution_count": 12,
     "metadata": {},
     "output_type": "execute_result"
    }
   ],
   "source": [
    "rating_df = rez_df.groupby([\"hashed_email\", \"RestaurantUID\"]).agg(\n",
    "    {\"rez_id\": [\"nunique\"]}\n",
    ")\n",
    "rating_df.columns = [\"_\".join(col).strip() for col in rating_df.columns.values]\n",
    "rating_df = rating_df.reset_index()\n",
    "rating_df"
   ]
  },
  {
   "cell_type": "code",
   "execution_count": 13,
   "id": "cubic-command",
   "metadata": {
    "ExecuteTime": {
     "end_time": "2021-03-31T11:50:40.739455Z",
     "start_time": "2021-03-31T11:50:40.458029Z"
    }
   },
   "outputs": [
    {
     "data": {
      "text/html": [
       "<div>\n",
       "<style scoped>\n",
       "    .dataframe tbody tr th:only-of-type {\n",
       "        vertical-align: middle;\n",
       "    }\n",
       "\n",
       "    .dataframe tbody tr th {\n",
       "        vertical-align: top;\n",
       "    }\n",
       "\n",
       "    .dataframe thead th {\n",
       "        text-align: right;\n",
       "    }\n",
       "</style>\n",
       "<table border=\"1\" class=\"dataframe\">\n",
       "  <thead>\n",
       "    <tr style=\"text-align: right;\">\n",
       "      <th></th>\n",
       "      <th>count</th>\n",
       "      <th>unique</th>\n",
       "      <th>top</th>\n",
       "      <th>freq</th>\n",
       "      <th>mean</th>\n",
       "      <th>std</th>\n",
       "      <th>min</th>\n",
       "      <th>25%</th>\n",
       "      <th>50%</th>\n",
       "      <th>75%</th>\n",
       "      <th>80%</th>\n",
       "      <th>90%</th>\n",
       "      <th>95%</th>\n",
       "      <th>max</th>\n",
       "    </tr>\n",
       "  </thead>\n",
       "  <tbody>\n",
       "    <tr>\n",
       "      <th>hashed_email</th>\n",
       "      <td>462372</td>\n",
       "      <td>318372</td>\n",
       "      <td>c625da72fbbc9e72b10e6015a5c7bee8</td>\n",
       "      <td>84</td>\n",
       "      <td>NaN</td>\n",
       "      <td>NaN</td>\n",
       "      <td>NaN</td>\n",
       "      <td>NaN</td>\n",
       "      <td>NaN</td>\n",
       "      <td>NaN</td>\n",
       "      <td>NaN</td>\n",
       "      <td>NaN</td>\n",
       "      <td>NaN</td>\n",
       "      <td>NaN</td>\n",
       "    </tr>\n",
       "    <tr>\n",
       "      <th>RestaurantUID</th>\n",
       "      <td>462372</td>\n",
       "      <td>2317</td>\n",
       "      <td>jumboseafoodriversidepoint55asd58r9</td>\n",
       "      <td>8045</td>\n",
       "      <td>NaN</td>\n",
       "      <td>NaN</td>\n",
       "      <td>NaN</td>\n",
       "      <td>NaN</td>\n",
       "      <td>NaN</td>\n",
       "      <td>NaN</td>\n",
       "      <td>NaN</td>\n",
       "      <td>NaN</td>\n",
       "      <td>NaN</td>\n",
       "      <td>NaN</td>\n",
       "    </tr>\n",
       "    <tr>\n",
       "      <th>rez_id_nunique</th>\n",
       "      <td>462372.0</td>\n",
       "      <td>NaN</td>\n",
       "      <td>NaN</td>\n",
       "      <td>NaN</td>\n",
       "      <td>1.118781</td>\n",
       "      <td>0.705395</td>\n",
       "      <td>1.0</td>\n",
       "      <td>1.0</td>\n",
       "      <td>1.0</td>\n",
       "      <td>1.0</td>\n",
       "      <td>1.0</td>\n",
       "      <td>1.0</td>\n",
       "      <td>2.0</td>\n",
       "      <td>105.0</td>\n",
       "    </tr>\n",
       "  </tbody>\n",
       "</table>\n",
       "</div>"
      ],
      "text/plain": [
       "                   count  unique                                  top  freq  \\\n",
       "hashed_email      462372  318372     c625da72fbbc9e72b10e6015a5c7bee8    84   \n",
       "RestaurantUID     462372    2317  jumboseafoodriversidepoint55asd58r9  8045   \n",
       "rez_id_nunique  462372.0     NaN                                  NaN   NaN   \n",
       "\n",
       "                    mean       std  min  25%  50%  75%  80%  90%  95%    max  \n",
       "hashed_email         NaN       NaN  NaN  NaN  NaN  NaN  NaN  NaN  NaN    NaN  \n",
       "RestaurantUID        NaN       NaN  NaN  NaN  NaN  NaN  NaN  NaN  NaN    NaN  \n",
       "rez_id_nunique  1.118781  0.705395  1.0  1.0  1.0  1.0  1.0  1.0  2.0  105.0  "
      ]
     },
     "execution_count": 13,
     "metadata": {},
     "output_type": "execute_result"
    }
   ],
   "source": [
    "rating_df.describe(include=\"all\", percentiles=[0.25, 0.5, 0.75, 0.8, 0.9, 0.95]).T"
   ]
  },
  {
   "cell_type": "markdown",
   "id": "marked-premium",
   "metadata": {},
   "source": [
    "Only 5% users booked a restaurant more than once."
   ]
  },
  {
   "cell_type": "markdown",
   "id": "sweet-washington",
   "metadata": {},
   "source": [
    "The first naive implicit rater is to clip the `rez_id_nunique` in the range (1, 5)"
   ]
  },
  {
   "cell_type": "code",
   "execution_count": 14,
   "id": "south-receiver",
   "metadata": {
    "ExecuteTime": {
     "end_time": "2021-03-31T11:50:40.751467Z",
     "start_time": "2021-03-31T11:50:40.740386Z"
    }
   },
   "outputs": [],
   "source": [
    "rating_df[\"rating\"] = rating_df[\"rez_id_nunique\"].clip(lower=1, upper=5)"
   ]
  },
  {
   "cell_type": "markdown",
   "id": "front-stretch",
   "metadata": {},
   "source": [
    "## Weighted average rating"
   ]
  },
  {
   "cell_type": "code",
   "execution_count": 15,
   "id": "hourly-thursday",
   "metadata": {
    "ExecuteTime": {
     "end_time": "2021-03-31T11:50:41.054741Z",
     "start_time": "2021-03-31T11:50:40.752408Z"
    }
   },
   "outputs": [],
   "source": [
    "rating_df[\"hashed_email_mean_rating\"] = rating_df.groupby([\"hashed_email\"])[\n",
    "    \"rating\"\n",
    "].transform(\"mean\")\n",
    "rating_df[\"RestaurantUID_mean_rating\"] = rating_df.groupby([\"RestaurantUID\"])[\n",
    "    \"rating\"\n",
    "].transform(\"mean\")"
   ]
  },
  {
   "cell_type": "code",
   "execution_count": 16,
   "id": "rental-breakdown",
   "metadata": {
    "ExecuteTime": {
     "end_time": "2021-03-31T11:50:41.067107Z",
     "start_time": "2021-03-31T11:50:41.055660Z"
    }
   },
   "outputs": [],
   "source": [
    "rating_df[\"rating_wa\"] = (\n",
    "    rating_df[\"rating\"] / rating_df[\"hashed_email_mean_rating\"]\n",
    "    + rating_df[\"rating\"] / rating_df[\"RestaurantUID_mean_rating\"]\n",
    ") / 2"
   ]
  },
  {
   "cell_type": "code",
   "execution_count": 17,
   "id": "biological-fortune",
   "metadata": {
    "ExecuteTime": {
     "end_time": "2021-03-31T11:50:41.362936Z",
     "start_time": "2021-03-31T11:50:41.068043Z"
    }
   },
   "outputs": [
    {
     "data": {
      "text/html": [
       "<div>\n",
       "<style scoped>\n",
       "    .dataframe tbody tr th:only-of-type {\n",
       "        vertical-align: middle;\n",
       "    }\n",
       "\n",
       "    .dataframe tbody tr th {\n",
       "        vertical-align: top;\n",
       "    }\n",
       "\n",
       "    .dataframe thead th {\n",
       "        text-align: right;\n",
       "    }\n",
       "</style>\n",
       "<table border=\"1\" class=\"dataframe\">\n",
       "  <thead>\n",
       "    <tr style=\"text-align: right;\">\n",
       "      <th></th>\n",
       "      <th>count</th>\n",
       "      <th>unique</th>\n",
       "      <th>top</th>\n",
       "      <th>freq</th>\n",
       "      <th>mean</th>\n",
       "      <th>std</th>\n",
       "      <th>min</th>\n",
       "      <th>25%</th>\n",
       "      <th>50%</th>\n",
       "      <th>75%</th>\n",
       "      <th>max</th>\n",
       "    </tr>\n",
       "  </thead>\n",
       "  <tbody>\n",
       "    <tr>\n",
       "      <th>hashed_email</th>\n",
       "      <td>462372</td>\n",
       "      <td>318372</td>\n",
       "      <td>c625da72fbbc9e72b10e6015a5c7bee8</td>\n",
       "      <td>84</td>\n",
       "      <td>NaN</td>\n",
       "      <td>NaN</td>\n",
       "      <td>NaN</td>\n",
       "      <td>NaN</td>\n",
       "      <td>NaN</td>\n",
       "      <td>NaN</td>\n",
       "      <td>NaN</td>\n",
       "    </tr>\n",
       "    <tr>\n",
       "      <th>RestaurantUID</th>\n",
       "      <td>462372</td>\n",
       "      <td>2317</td>\n",
       "      <td>jumboseafoodriversidepoint55asd58r9</td>\n",
       "      <td>8045</td>\n",
       "      <td>NaN</td>\n",
       "      <td>NaN</td>\n",
       "      <td>NaN</td>\n",
       "      <td>NaN</td>\n",
       "      <td>NaN</td>\n",
       "      <td>NaN</td>\n",
       "      <td>NaN</td>\n",
       "    </tr>\n",
       "    <tr>\n",
       "      <th>rez_id_nunique</th>\n",
       "      <td>462372.0</td>\n",
       "      <td>NaN</td>\n",
       "      <td>NaN</td>\n",
       "      <td>NaN</td>\n",
       "      <td>1.118781</td>\n",
       "      <td>0.705395</td>\n",
       "      <td>1.0</td>\n",
       "      <td>1.0</td>\n",
       "      <td>1.0</td>\n",
       "      <td>1.0</td>\n",
       "      <td>105.0</td>\n",
       "    </tr>\n",
       "    <tr>\n",
       "      <th>rating</th>\n",
       "      <td>462372.0</td>\n",
       "      <td>NaN</td>\n",
       "      <td>NaN</td>\n",
       "      <td>NaN</td>\n",
       "      <td>1.107548</td>\n",
       "      <td>0.41689</td>\n",
       "      <td>1.0</td>\n",
       "      <td>1.0</td>\n",
       "      <td>1.0</td>\n",
       "      <td>1.0</td>\n",
       "      <td>5.0</td>\n",
       "    </tr>\n",
       "    <tr>\n",
       "      <th>hashed_email_mean_rating</th>\n",
       "      <td>462372.0</td>\n",
       "      <td>NaN</td>\n",
       "      <td>NaN</td>\n",
       "      <td>NaN</td>\n",
       "      <td>1.107548</td>\n",
       "      <td>0.316258</td>\n",
       "      <td>1.0</td>\n",
       "      <td>1.0</td>\n",
       "      <td>1.0</td>\n",
       "      <td>1.0</td>\n",
       "      <td>5.0</td>\n",
       "    </tr>\n",
       "    <tr>\n",
       "      <th>RestaurantUID_mean_rating</th>\n",
       "      <td>462372.0</td>\n",
       "      <td>NaN</td>\n",
       "      <td>NaN</td>\n",
       "      <td>NaN</td>\n",
       "      <td>1.107548</td>\n",
       "      <td>0.081543</td>\n",
       "      <td>1.0</td>\n",
       "      <td>1.066879</td>\n",
       "      <td>1.094375</td>\n",
       "      <td>1.123288</td>\n",
       "      <td>5.0</td>\n",
       "    </tr>\n",
       "    <tr>\n",
       "      <th>rating_wa</th>\n",
       "      <td>462372.0</td>\n",
       "      <td>NaN</td>\n",
       "      <td>NaN</td>\n",
       "      <td>NaN</td>\n",
       "      <td>1.0</td>\n",
       "      <td>0.238732</td>\n",
       "      <td>0.362319</td>\n",
       "      <td>0.940998</td>\n",
       "      <td>0.95767</td>\n",
       "      <td>0.971264</td>\n",
       "      <td>4.246429</td>\n",
       "    </tr>\n",
       "  </tbody>\n",
       "</table>\n",
       "</div>"
      ],
      "text/plain": [
       "                              count  unique  \\\n",
       "hashed_email                 462372  318372   \n",
       "RestaurantUID                462372    2317   \n",
       "rez_id_nunique             462372.0     NaN   \n",
       "rating                     462372.0     NaN   \n",
       "hashed_email_mean_rating   462372.0     NaN   \n",
       "RestaurantUID_mean_rating  462372.0     NaN   \n",
       "rating_wa                  462372.0     NaN   \n",
       "\n",
       "                                                           top  freq  \\\n",
       "hashed_email                  c625da72fbbc9e72b10e6015a5c7bee8    84   \n",
       "RestaurantUID              jumboseafoodriversidepoint55asd58r9  8045   \n",
       "rez_id_nunique                                             NaN   NaN   \n",
       "rating                                                     NaN   NaN   \n",
       "hashed_email_mean_rating                                   NaN   NaN   \n",
       "RestaurantUID_mean_rating                                  NaN   NaN   \n",
       "rating_wa                                                  NaN   NaN   \n",
       "\n",
       "                               mean       std       min       25%       50%  \\\n",
       "hashed_email                    NaN       NaN       NaN       NaN       NaN   \n",
       "RestaurantUID                   NaN       NaN       NaN       NaN       NaN   \n",
       "rez_id_nunique             1.118781  0.705395       1.0       1.0       1.0   \n",
       "rating                     1.107548   0.41689       1.0       1.0       1.0   \n",
       "hashed_email_mean_rating   1.107548  0.316258       1.0       1.0       1.0   \n",
       "RestaurantUID_mean_rating  1.107548  0.081543       1.0  1.066879  1.094375   \n",
       "rating_wa                       1.0  0.238732  0.362319  0.940998   0.95767   \n",
       "\n",
       "                                75%       max  \n",
       "hashed_email                    NaN       NaN  \n",
       "RestaurantUID                   NaN       NaN  \n",
       "rez_id_nunique                  1.0     105.0  \n",
       "rating                          1.0       5.0  \n",
       "hashed_email_mean_rating        1.0       5.0  \n",
       "RestaurantUID_mean_rating  1.123288       5.0  \n",
       "rating_wa                  0.971264  4.246429  "
      ]
     },
     "execution_count": 17,
     "metadata": {},
     "output_type": "execute_result"
    }
   ],
   "source": [
    "rating_df.describe(include=\"all\").T"
   ]
  },
  {
   "cell_type": "markdown",
   "id": "potential-canyon",
   "metadata": {},
   "source": [
    "## Random rating"
   ]
  },
  {
   "cell_type": "markdown",
   "id": "equivalent-ethiopia",
   "metadata": {},
   "source": [
    "To test the impact of implementing implicit rating"
   ]
  },
  {
   "cell_type": "code",
   "execution_count": 18,
   "id": "reduced-bibliography",
   "metadata": {
    "ExecuteTime": {
     "end_time": "2021-03-31T11:50:41.372751Z",
     "start_time": "2021-03-31T11:50:41.363908Z"
    }
   },
   "outputs": [],
   "source": [
    "import numpy as np"
   ]
  },
  {
   "cell_type": "code",
   "execution_count": 19,
   "id": "acquired-wallace",
   "metadata": {
    "ExecuteTime": {
     "end_time": "2021-03-31T11:50:41.387582Z",
     "start_time": "2021-03-31T11:50:41.373616Z"
    }
   },
   "outputs": [],
   "source": [
    "random_range = list(range(1, 5))\n",
    "rating_df[\"rating_random\"] = np.random.choice(random_range, size=rating_df.shape[0])"
   ]
  },
  {
   "cell_type": "markdown",
   "id": "latter-shade",
   "metadata": {},
   "source": [
    "# Getting restaurant metadata"
   ]
  },
  {
   "cell_type": "markdown",
   "id": "quality-substitute",
   "metadata": {},
   "source": [
    "## Load res_cats"
   ]
  },
  {
   "cell_type": "code",
   "execution_count": 20,
   "id": "abstract-worship",
   "metadata": {
    "ExecuteTime": {
     "end_time": "2021-03-31T11:50:41.417602Z",
     "start_time": "2021-03-31T11:50:41.388575Z"
    }
   },
   "outputs": [],
   "source": [
    "cat_df = pd.read_csv(DATA_RAW_DIR + \"restaurant_category.csv\", dtype=str)\n",
    "res_cats_rel_df = pd.read_csv(DATA_RAW_DIR + \"res_cats_relationship.csv\", dtype=str)"
   ]
  },
  {
   "cell_type": "code",
   "execution_count": 21,
   "id": "departmental-arbitration",
   "metadata": {
    "ExecuteTime": {
     "end_time": "2021-03-31T11:50:41.431638Z",
     "start_time": "2021-03-31T11:50:41.418503Z"
    }
   },
   "outputs": [
    {
     "data": {
      "text/html": [
       "<div>\n",
       "<style scoped>\n",
       "    .dataframe tbody tr th:only-of-type {\n",
       "        vertical-align: middle;\n",
       "    }\n",
       "\n",
       "    .dataframe tbody tr th {\n",
       "        vertical-align: top;\n",
       "    }\n",
       "\n",
       "    .dataframe thead th {\n",
       "        text-align: right;\n",
       "    }\n",
       "</style>\n",
       "<table border=\"1\" class=\"dataframe\">\n",
       "  <thead>\n",
       "    <tr style=\"text-align: right;\">\n",
       "      <th></th>\n",
       "      <th>id</th>\n",
       "      <th>parent_id</th>\n",
       "      <th>name</th>\n",
       "      <th>country_code</th>\n",
       "    </tr>\n",
       "  </thead>\n",
       "  <tbody>\n",
       "    <tr>\n",
       "      <th>0</th>\n",
       "      <td>1</td>\n",
       "      <td>0</td>\n",
       "      <td>CUISINE</td>\n",
       "      <td>SG</td>\n",
       "    </tr>\n",
       "    <tr>\n",
       "      <th>1</th>\n",
       "      <td>2</td>\n",
       "      <td>0</td>\n",
       "      <td>LOCATION</td>\n",
       "      <td>SG</td>\n",
       "    </tr>\n",
       "    <tr>\n",
       "      <th>2</th>\n",
       "      <td>6</td>\n",
       "      <td>1</td>\n",
       "      <td>American</td>\n",
       "      <td>SG</td>\n",
       "    </tr>\n",
       "    <tr>\n",
       "      <th>3</th>\n",
       "      <td>8</td>\n",
       "      <td>1</td>\n",
       "      <td>Bar</td>\n",
       "      <td>SG</td>\n",
       "    </tr>\n",
       "    <tr>\n",
       "      <th>4</th>\n",
       "      <td>11</td>\n",
       "      <td>2</td>\n",
       "      <td>Dempsey</td>\n",
       "      <td>SG</td>\n",
       "    </tr>\n",
       "    <tr>\n",
       "      <th>...</th>\n",
       "      <td>...</td>\n",
       "      <td>...</td>\n",
       "      <td>...</td>\n",
       "      <td>...</td>\n",
       "    </tr>\n",
       "    <tr>\n",
       "      <th>626</th>\n",
       "      <td>1550</td>\n",
       "      <td>1196</td>\n",
       "      <td>BBQ</td>\n",
       "      <td>PHUKET</td>\n",
       "    </tr>\n",
       "    <tr>\n",
       "      <th>627</th>\n",
       "      <td>1551</td>\n",
       "      <td>1196</td>\n",
       "      <td>Indonesian</td>\n",
       "      <td>PHUKET</td>\n",
       "    </tr>\n",
       "    <tr>\n",
       "      <th>628</th>\n",
       "      <td>1554</td>\n",
       "      <td>614</td>\n",
       "      <td>Samphantawong-|-|-|สัมพันธวงศ์|</td>\n",
       "      <td>BANGKOK</td>\n",
       "    </tr>\n",
       "    <tr>\n",
       "      <th>629</th>\n",
       "      <td>1555</td>\n",
       "      <td>1</td>\n",
       "      <td>BBQ</td>\n",
       "      <td>SG</td>\n",
       "    </tr>\n",
       "    <tr>\n",
       "      <th>630</th>\n",
       "      <td>1556</td>\n",
       "      <td>1169</td>\n",
       "      <td>Tri Trang Beach</td>\n",
       "      <td>PHUKET</td>\n",
       "    </tr>\n",
       "  </tbody>\n",
       "</table>\n",
       "<p>631 rows × 4 columns</p>\n",
       "</div>"
      ],
      "text/plain": [
       "       id parent_id                             name country_code\n",
       "0       1         0                          CUISINE           SG\n",
       "1       2         0                         LOCATION           SG\n",
       "2       6         1                         American           SG\n",
       "3       8         1                              Bar           SG\n",
       "4      11         2                          Dempsey           SG\n",
       "..    ...       ...                              ...          ...\n",
       "626  1550      1196                              BBQ       PHUKET\n",
       "627  1551      1196                       Indonesian       PHUKET\n",
       "628  1554       614  Samphantawong-|-|-|สัมพันธวงศ์|      BANGKOK\n",
       "629  1555         1                              BBQ           SG\n",
       "630  1556      1169                  Tri Trang Beach       PHUKET\n",
       "\n",
       "[631 rows x 4 columns]"
      ]
     },
     "execution_count": 21,
     "metadata": {},
     "output_type": "execute_result"
    }
   ],
   "source": [
    "cat_df"
   ]
  },
  {
   "cell_type": "code",
   "execution_count": 22,
   "id": "southwest-brunswick",
   "metadata": {
    "ExecuteTime": {
     "end_time": "2021-03-31T11:50:41.455931Z",
     "start_time": "2021-03-31T11:50:41.432666Z"
    }
   },
   "outputs": [],
   "source": [
    "_cols = [\"id\", \"name\"]\n",
    "_cat_df = cat_df[_cols].rename(columns={\"id\": \"parent_id\", \"name\": \"cat_parent_name\"})\n",
    "cat_cross_df = cat_df.merge(_cat_df, how=\"left\", on=\"parent_id\")\n",
    "cat_cross_df[\"cat_parent_name\"] = cat_cross_df[\"cat_parent_name\"].str.upper()"
   ]
  },
  {
   "cell_type": "code",
   "execution_count": 23,
   "id": "other-incident",
   "metadata": {
    "ExecuteTime": {
     "end_time": "2021-03-31T11:50:41.497037Z",
     "start_time": "2021-03-31T11:50:41.457005Z"
    }
   },
   "outputs": [],
   "source": [
    "cat_denom_df = res_cats_rel_df.merge(\n",
    "    cat_cross_df, how=\"left\", left_on=\"cat_id\", right_on=\"id\"\n",
    ")\n",
    "\n",
    "cat_denom_df = cat_denom_df.drop([\"id\"], axis=1)\n",
    "cat_denom_df = cat_denom_df.rename(\n",
    "    columns={\n",
    "        \"parent_id\": \"cat_parent_id\",\n",
    "        \"name\": \"cat_name\",\n",
    "        \"country_code\": \"cat_country_code\",\n",
    "    }\n",
    ")\n",
    "cat_denom_df[\"cat_name\"] = cat_denom_df[\"cat_name\"].str.lower()"
   ]
  },
  {
   "cell_type": "code",
   "execution_count": 24,
   "id": "normal-spine",
   "metadata": {
    "ExecuteTime": {
     "end_time": "2021-03-31T11:50:41.522739Z",
     "start_time": "2021-03-31T11:50:41.497965Z"
    }
   },
   "outputs": [],
   "source": [
    "res_agg_df = cat_denom_df.groupby(\n",
    "    [\"RestaurantUID\", \"cat_country_code\"], as_index=False\n",
    ")[\"cat_id\"].count()\n",
    "res_agg_df = res_agg_df.drop(columns=[\"cat_id\"])\n",
    "\n",
    "assert res_agg_df[\"RestaurantUID\"].duplicated().sum() == 0"
   ]
  },
  {
   "cell_type": "code",
   "execution_count": 25,
   "id": "chicken-cotton",
   "metadata": {
    "ExecuteTime": {
     "end_time": "2021-03-31T11:50:41.536820Z",
     "start_time": "2021-03-31T11:50:41.523694Z"
    }
   },
   "outputs": [
    {
     "data": {
      "text/html": [
       "<div>\n",
       "<style scoped>\n",
       "    .dataframe tbody tr th:only-of-type {\n",
       "        vertical-align: middle;\n",
       "    }\n",
       "\n",
       "    .dataframe tbody tr th {\n",
       "        vertical-align: top;\n",
       "    }\n",
       "\n",
       "    .dataframe thead th {\n",
       "        text-align: right;\n",
       "    }\n",
       "</style>\n",
       "<table border=\"1\" class=\"dataframe\">\n",
       "  <thead>\n",
       "    <tr style=\"text-align: right;\">\n",
       "      <th></th>\n",
       "      <th>RestaurantUID</th>\n",
       "      <th>cat_country_code</th>\n",
       "    </tr>\n",
       "  </thead>\n",
       "  <tbody>\n",
       "    <tr>\n",
       "      <th>0</th>\n",
       "      <td>1</td>\n",
       "      <td>SG</td>\n",
       "    </tr>\n",
       "    <tr>\n",
       "      <th>1</th>\n",
       "      <td>111</td>\n",
       "      <td>SG</td>\n",
       "    </tr>\n",
       "    <tr>\n",
       "      <th>2</th>\n",
       "      <td>112</td>\n",
       "      <td>SG</td>\n",
       "    </tr>\n",
       "    <tr>\n",
       "      <th>3</th>\n",
       "      <td>1128bar1311bar</td>\n",
       "      <td>SG</td>\n",
       "    </tr>\n",
       "    <tr>\n",
       "      <th>4</th>\n",
       "      <td>116</td>\n",
       "      <td>SG</td>\n",
       "    </tr>\n",
       "    <tr>\n",
       "      <th>...</th>\n",
       "      <td>...</td>\n",
       "      <td>...</td>\n",
       "    </tr>\n",
       "    <tr>\n",
       "      <th>3787</th>\n",
       "      <td>zsgroupmoimoi1707mmn</td>\n",
       "      <td>HK</td>\n",
       "    </tr>\n",
       "    <tr>\n",
       "      <th>3788</th>\n",
       "      <td>zsofitapasbar1501ztb</td>\n",
       "      <td>SG</td>\n",
       "    </tr>\n",
       "    <tr>\n",
       "      <th>3789</th>\n",
       "      <td>zuccchero1704zce</td>\n",
       "      <td>HK</td>\n",
       "    </tr>\n",
       "    <tr>\n",
       "      <th>3790</th>\n",
       "      <td>zuma1503bkk</td>\n",
       "      <td>BANGKOK</td>\n",
       "    </tr>\n",
       "    <tr>\n",
       "      <th>3791</th>\n",
       "      <td>zurriola91asd51a-4</td>\n",
       "      <td>HK</td>\n",
       "    </tr>\n",
       "  </tbody>\n",
       "</table>\n",
       "<p>3792 rows × 2 columns</p>\n",
       "</div>"
      ],
      "text/plain": [
       "             RestaurantUID cat_country_code\n",
       "0                        1               SG\n",
       "1                      111               SG\n",
       "2                      112               SG\n",
       "3           1128bar1311bar               SG\n",
       "4                      116               SG\n",
       "...                    ...              ...\n",
       "3787  zsgroupmoimoi1707mmn               HK\n",
       "3788  zsofitapasbar1501ztb               SG\n",
       "3789      zuccchero1704zce               HK\n",
       "3790           zuma1503bkk          BANGKOK\n",
       "3791    zurriola91asd51a-4               HK\n",
       "\n",
       "[3792 rows x 2 columns]"
      ]
     },
     "execution_count": 25,
     "metadata": {},
     "output_type": "execute_result"
    }
   ],
   "source": [
    "res_agg_df"
   ]
  },
  {
   "cell_type": "markdown",
   "id": "pleasant-occurrence",
   "metadata": {},
   "source": [
    "## Format res_cats"
   ]
  },
  {
   "cell_type": "code",
   "execution_count": 26,
   "id": "wrong-magnitude",
   "metadata": {
    "ExecuteTime": {
     "end_time": "2021-03-31T11:50:41.553867Z",
     "start_time": "2021-03-31T11:50:41.537754Z"
    }
   },
   "outputs": [],
   "source": [
    "res_features = res_agg_df.to_dict(orient=\"records\")"
   ]
  },
  {
   "cell_type": "markdown",
   "id": "oriented-boutique",
   "metadata": {},
   "source": [
    "# Prepare rating format "
   ]
  },
  {
   "cell_type": "code",
   "execution_count": 27,
   "id": "terminal-provision",
   "metadata": {
    "ExecuteTime": {
     "end_time": "2021-03-31T11:50:42.587261Z",
     "start_time": "2021-03-31T11:50:41.554811Z"
    }
   },
   "outputs": [],
   "source": [
    "rating_col = \"rating\"\n",
    "cols = [\"hashed_email\", \"RestaurantUID\", rating_col]\n",
    "rating_dicts = rating_df[cols].to_dict(orient=\"records\")"
   ]
  },
  {
   "cell_type": "code",
   "execution_count": 28,
   "id": "current-brick",
   "metadata": {
    "ExecuteTime": {
     "end_time": "2021-03-31T11:50:45.031135Z",
     "start_time": "2021-03-31T11:50:42.588231Z"
    }
   },
   "outputs": [
    {
     "name": "stderr",
     "output_type": "stream",
     "text": [
      "/Users/quydv1/miniconda3/envs/chope-mle/lib/python3.8/site-packages/lightfm/_lightfm_fast.py:9: UserWarning: LightFM was compiled without OpenMP support. Only a single thread will be used.\n",
      "  warnings.warn(\n"
     ]
    }
   ],
   "source": [
    "from lightfm.data import Dataset\n",
    "\n",
    "dataset = Dataset()\n",
    "dataset.fit(\n",
    "    (x[\"hashed_email\"] for x in rating_dicts),\n",
    "    (x[\"RestaurantUID\"] for x in rating_dicts),\n",
    ")"
   ]
  },
  {
   "cell_type": "code",
   "execution_count": 29,
   "id": "provincial-initial",
   "metadata": {
    "ExecuteTime": {
     "end_time": "2021-03-31T11:50:45.045821Z",
     "start_time": "2021-03-31T11:50:45.032055Z"
    }
   },
   "outputs": [],
   "source": [
    "dataset.fit_partial(\n",
    "    items=(x[\"RestaurantUID\"] for x in res_features),\n",
    "    item_features=(x[\"cat_country_code\"] for x in res_features),\n",
    ")"
   ]
  },
  {
   "cell_type": "code",
   "execution_count": 30,
   "id": "lovely-atlas",
   "metadata": {
    "ExecuteTime": {
     "end_time": "2021-03-31T11:50:45.058231Z",
     "start_time": "2021-03-31T11:50:45.046898Z"
    }
   },
   "outputs": [
    {
     "name": "stdout",
     "output_type": "stream",
     "text": [
      "Num users: 318372, Num restaurants: 3853.\n"
     ]
    }
   ],
   "source": [
    "num_users, num_items = dataset.interactions_shape()\n",
    "print(\"Num users: {}, Num restaurants: {}.\".format(num_users, num_items))"
   ]
  },
  {
   "cell_type": "code",
   "execution_count": 31,
   "id": "female-macedonia",
   "metadata": {
    "ExecuteTime": {
     "end_time": "2021-03-31T11:50:45.717403Z",
     "start_time": "2021-03-31T11:50:45.059207Z"
    }
   },
   "outputs": [
    {
     "name": "stdout",
     "output_type": "stream",
     "text": [
      "<318372x3853 sparse matrix of type '<class 'numpy.int32'>'\n",
      "\twith 462372 stored elements in COOrdinate format>\n"
     ]
    }
   ],
   "source": [
    "(interactions, weights) = dataset.build_interactions(\n",
    "    ((x[\"hashed_email\"], x[\"RestaurantUID\"], x[rating_col]) for x in rating_dicts)\n",
    ")\n",
    "\n",
    "print(repr(interactions))"
   ]
  },
  {
   "cell_type": "code",
   "execution_count": 32,
   "id": "educated-composer",
   "metadata": {
    "ExecuteTime": {
     "end_time": "2021-03-31T11:50:45.728936Z",
     "start_time": "2021-03-31T11:50:45.718313Z"
    }
   },
   "outputs": [],
   "source": [
    "sparsity = weights.nnz / (weights.shape[0] * weights.shape[1])"
   ]
  },
  {
   "cell_type": "code",
   "execution_count": 33,
   "id": "above-textbook",
   "metadata": {
    "ExecuteTime": {
     "end_time": "2021-03-31T11:50:45.742439Z",
     "start_time": "2021-03-31T11:50:45.729972Z"
    }
   },
   "outputs": [
    {
     "data": {
      "text/plain": [
       "0.0003769273505718714"
      ]
     },
     "execution_count": 33,
     "metadata": {},
     "output_type": "execute_result"
    }
   ],
   "source": [
    "sparsity"
   ]
  },
  {
   "cell_type": "markdown",
   "id": "canadian-couple",
   "metadata": {},
   "source": [
    "#### Build item features"
   ]
  },
  {
   "cell_type": "code",
   "execution_count": 34,
   "id": "canadian-discharge",
   "metadata": {
    "ExecuteTime": {
     "end_time": "2021-03-31T11:50:45.766981Z",
     "start_time": "2021-03-31T11:50:45.743517Z"
    }
   },
   "outputs": [],
   "source": [
    "item_features = dataset.build_item_features(\n",
    "    ((x[\"RestaurantUID\"], [x[\"cat_country_code\"]]) for x in res_features)\n",
    ")"
   ]
  },
  {
   "cell_type": "code",
   "execution_count": 35,
   "id": "fantastic-match",
   "metadata": {
    "ExecuteTime": {
     "end_time": "2021-03-31T11:50:45.779950Z",
     "start_time": "2021-03-31T11:50:45.768012Z"
    }
   },
   "outputs": [
    {
     "name": "stdout",
     "output_type": "stream",
     "text": [
      "<3853x3863 sparse matrix of type '<class 'numpy.float32'>'\n",
      "\twith 7645 stored elements in Compressed Sparse Row format>\n"
     ]
    }
   ],
   "source": [
    "print(repr(item_features))"
   ]
  },
  {
   "cell_type": "markdown",
   "id": "dedicated-waters",
   "metadata": {},
   "source": [
    "# Split train test"
   ]
  },
  {
   "cell_type": "code",
   "execution_count": 36,
   "id": "cardiac-source",
   "metadata": {
    "ExecuteTime": {
     "end_time": "2021-03-31T11:50:45.792231Z",
     "start_time": "2021-03-31T11:50:45.780849Z"
    }
   },
   "outputs": [],
   "source": [
    "from lightfm.cross_validation import random_train_test_split"
   ]
  },
  {
   "cell_type": "code",
   "execution_count": 37,
   "id": "impressive-universe",
   "metadata": {
    "ExecuteTime": {
     "end_time": "2021-03-31T11:50:45.817694Z",
     "start_time": "2021-03-31T11:50:45.793282Z"
    }
   },
   "outputs": [],
   "source": [
    "train, test = random_train_test_split(weights, test_percentage=0.2, random_state=13)"
   ]
  },
  {
   "cell_type": "markdown",
   "id": "useful-auction",
   "metadata": {},
   "source": [
    "# Fit model"
   ]
  },
  {
   "cell_type": "code",
   "execution_count": 38,
   "id": "architectural-address",
   "metadata": {
    "ExecuteTime": {
     "end_time": "2021-03-31T11:50:45.830221Z",
     "start_time": "2021-03-31T11:50:45.818546Z"
    }
   },
   "outputs": [],
   "source": [
    "from lightfm import LightFM\n",
    "from lightfm.evaluation import precision_at_k, auc_score"
   ]
  },
  {
   "cell_type": "markdown",
   "id": "concrete-battle",
   "metadata": {},
   "source": [
    "## WARP"
   ]
  },
  {
   "cell_type": "code",
   "execution_count": 39,
   "id": "alternate-singapore",
   "metadata": {
    "ExecuteTime": {
     "end_time": "2021-03-31T11:52:31.501830Z",
     "start_time": "2021-03-31T11:50:45.831116Z"
    }
   },
   "outputs": [
    {
     "name": "stderr",
     "output_type": "stream",
     "text": [
      "Epoch: 100%|██████████| 10/10 [00:04<00:00,  2.15it/s]\n"
     ]
    },
    {
     "name": "stdout",
     "output_type": "stream",
     "text": [
      "Precision: train 0.08, test 0.01.\n",
      "AUC: train 0.96, test 0.92.\n"
     ]
    }
   ],
   "source": [
    "model = LightFM(\n",
    "    no_components=50, learning_schedule=\"adagrad\", learning_rate=0.01, loss=\"warp\"\n",
    ")\n",
    "\n",
    "model.fit_partial(train, epochs=10, sample_weight=train, verbose=True)\n",
    "\n",
    "train_precision = precision_at_k(model, train, k=10).mean()\n",
    "test_precision = precision_at_k(\n",
    "    model, test, k=10, train_interactions=train, check_intersections=True,\n",
    ").mean()\n",
    "\n",
    "train_auc = auc_score(model, train).mean()\n",
    "test_auc = auc_score(model, test, train_interactions=train,).mean()\n",
    "\n",
    "print(\"Precision: train %.2f, test %.2f.\" % (train_precision, test_precision))\n",
    "print(\"AUC: train %.2f, test %.2f.\" % (train_auc, test_auc))"
   ]
  },
  {
   "cell_type": "markdown",
   "id": "functioning-bishop",
   "metadata": {},
   "source": [
    "# Hyper-param tuning"
   ]
  },
  {
   "cell_type": "code",
   "execution_count": 54,
   "id": "fourth-refund",
   "metadata": {
    "ExecuteTime": {
     "end_time": "2021-03-31T12:02:13.848764Z",
     "start_time": "2021-03-31T12:02:13.813110Z"
    }
   },
   "outputs": [],
   "source": [
    "import itertools\n",
    "\n",
    "\n",
    "def sample_hyperparameters():\n",
    "    \"\"\"\n",
    "    Yield possible hyperparameter choices.\n",
    "    \"\"\"\n",
    "\n",
    "    while True:\n",
    "        yield {\n",
    "            \"no_components\": np.random.randint(16, 64),\n",
    "            \"learning_schedule\": np.random.choice([\"adagrad\", \"adadelta\"]),\n",
    "            \"loss\": np.random.choice([\"bpr\", \"warp\", \"warp-kos\"]),\n",
    "            \"learning_rate\": np.random.exponential(0.05),\n",
    "            \"item_alpha\": np.random.exponential(1e-8),\n",
    "            \"user_alpha\": np.random.exponential(1e-8),\n",
    "            \"max_sampled\": np.random.randint(5, 15),\n",
    "            \"num_epochs\": np.random.randint(5, 50),\n",
    "        }\n",
    "\n",
    "\n",
    "def random_search(train, test, num_samples=10, num_threads=1):\n",
    "    \"\"\"\n",
    "    Sample random hyperparameters, fit a LightFM model, and evaluate it\n",
    "    on the test set.\n",
    "\n",
    "    Parameters\n",
    "    ----------\n",
    "\n",
    "    train: np.float32 coo_matrix of shape [n_users, n_items]\n",
    "        Training data.\n",
    "    test: np.float32 coo_matrix of shape [n_users, n_items]\n",
    "        Test data.\n",
    "    num_samples: int, optional\n",
    "        Number of hyperparameter choices to evaluate.\n",
    "\n",
    "\n",
    "    Returns\n",
    "    -------\n",
    "\n",
    "    generator of (auc_score, hyperparameter dict, fitted model)\n",
    "\n",
    "    \"\"\"\n",
    "\n",
    "    i = 1\n",
    "    for hyperparams in itertools.islice(sample_hyperparameters(), num_samples):\n",
    "        print(f\"{i} - Evaluating {hyperparams}...\")\n",
    "        num_epochs = hyperparams.pop(\"num_epochs\")\n",
    "\n",
    "        model = LightFM(**hyperparams)\n",
    "        model.fit(train, epochs=num_epochs, num_threads=num_threads)\n",
    "\n",
    "        score_auc = auc_score(\n",
    "            model, test, train_interactions=train, num_threads=num_threads\n",
    "        ).mean()\n",
    "        score_pak = precision_at_k(\n",
    "            model, test, k=10, train_interactions=train, check_intersections=True,\n",
    "        ).mean()\n",
    "\n",
    "        hyperparams[\"num_epochs\"] = num_epochs\n",
    "\n",
    "        yield (score_pak, score_auc, hyperparams, model)\n",
    "\n",
    "        i += 1"
   ]
  },
  {
   "cell_type": "code",
   "execution_count": 55,
   "id": "adaptive-auditor",
   "metadata": {
    "ExecuteTime": {
     "end_time": "2021-03-31T12:14:56.368150Z",
     "start_time": "2021-03-31T12:02:15.836985Z"
    },
    "scrolled": true
   },
   "outputs": [
    {
     "name": "stdout",
     "output_type": "stream",
     "text": [
      "1 - Evaluating {'no_components': 44, 'learning_schedule': 'adagrad', 'loss': 'bpr', 'learning_rate': 0.01783667941844756, 'item_alpha': 7.053406626813405e-09, 'user_alpha': 1.3465427828987647e-08, 'max_sampled': 7, 'num_epochs': 32}...\n",
      "2 - Evaluating {'no_components': 34, 'learning_schedule': 'adagrad', 'loss': 'warp-kos', 'learning_rate': 0.06246996438405816, 'item_alpha': 1.3141647881324948e-08, 'user_alpha': 6.222805462453687e-09, 'max_sampled': 6, 'num_epochs': 48}...\n",
      "3 - Evaluating {'no_components': 58, 'learning_schedule': 'adadelta', 'loss': 'warp', 'learning_rate': 0.04024858379095012, 'item_alpha': 2.3228927538001914e-10, 'user_alpha': 2.3522321504531383e-08, 'max_sampled': 9, 'num_epochs': 43}...\n",
      "4 - Evaluating {'no_components': 48, 'learning_schedule': 'adagrad', 'loss': 'bpr', 'learning_rate': 0.0775034083741008, 'item_alpha': 2.4430031596261906e-08, 'user_alpha': 1.793743634771059e-08, 'max_sampled': 10, 'num_epochs': 47}...\n",
      "5 - Evaluating {'no_components': 25, 'learning_schedule': 'adadelta', 'loss': 'warp-kos', 'learning_rate': 0.043787870516298344, 'item_alpha': 6.442222763247e-10, 'user_alpha': 2.1998137573199926e-11, 'max_sampled': 9, 'num_epochs': 49}...\n",
      "6 - Evaluating {'no_components': 17, 'learning_schedule': 'adadelta', 'loss': 'warp', 'learning_rate': 0.08665840234558912, 'item_alpha': 3.0061785579819236e-09, 'user_alpha': 7.612106274872008e-10, 'max_sampled': 12, 'num_epochs': 37}...\n",
      "7 - Evaluating {'no_components': 27, 'learning_schedule': 'adadelta', 'loss': 'warp', 'learning_rate': 0.027462877842221935, 'item_alpha': 1.577194883947241e-08, 'user_alpha': 1.995958958236258e-09, 'max_sampled': 6, 'num_epochs': 21}...\n",
      "8 - Evaluating {'no_components': 25, 'learning_schedule': 'adagrad', 'loss': 'warp', 'learning_rate': 0.052365723575759554, 'item_alpha': 1.9888222831030655e-09, 'user_alpha': 2.05972246274174e-09, 'max_sampled': 10, 'num_epochs': 34}...\n",
      "9 - Evaluating {'no_components': 37, 'learning_schedule': 'adadelta', 'loss': 'warp-kos', 'learning_rate': 0.030531624427741474, 'item_alpha': 5.544553501342434e-10, 'user_alpha': 2.23198232476771e-09, 'max_sampled': 6, 'num_epochs': 29}...\n",
      "10 - Evaluating {'no_components': 31, 'learning_schedule': 'adagrad', 'loss': 'warp', 'learning_rate': 0.06029804865306937, 'item_alpha': 6.675085504713614e-09, 'user_alpha': 2.4961799854360166e-09, 'max_sampled': 11, 'num_epochs': 49}...\n",
      "11 - Evaluating {'no_components': 51, 'learning_schedule': 'adadelta', 'loss': 'warp', 'learning_rate': 0.011769728982826378, 'item_alpha': 1.3193443717869714e-08, 'user_alpha': 2.2900804232798767e-10, 'max_sampled': 9, 'num_epochs': 34}...\n",
      "12 - Evaluating {'no_components': 48, 'learning_schedule': 'adadelta', 'loss': 'warp', 'learning_rate': 0.012880417517804771, 'item_alpha': 1.375611869722473e-08, 'user_alpha': 1.1312632031327142e-08, 'max_sampled': 13, 'num_epochs': 30}...\n",
      "13 - Evaluating {'no_components': 24, 'learning_schedule': 'adagrad', 'loss': 'warp-kos', 'learning_rate': 0.03152917167241094, 'item_alpha': 2.4219754144166423e-09, 'user_alpha': 3.184974203015117e-09, 'max_sampled': 14, 'num_epochs': 21}...\n",
      "14 - Evaluating {'no_components': 46, 'learning_schedule': 'adadelta', 'loss': 'warp', 'learning_rate': 0.15360323605258105, 'item_alpha': 1.4565775839104142e-09, 'user_alpha': 2.0480699754230218e-09, 'max_sampled': 8, 'num_epochs': 5}...\n",
      "15 - Evaluating {'no_components': 23, 'learning_schedule': 'adagrad', 'loss': 'warp-kos', 'learning_rate': 0.022171801870756902, 'item_alpha': 2.9254856529214052e-08, 'user_alpha': 1.1125844088495916e-08, 'max_sampled': 7, 'num_epochs': 48}...\n",
      "16 - Evaluating {'no_components': 27, 'learning_schedule': 'adadelta', 'loss': 'bpr', 'learning_rate': 0.04370063244943957, 'item_alpha': 7.195780972603344e-09, 'user_alpha': 1.165352390008341e-08, 'max_sampled': 13, 'num_epochs': 48}...\n",
      "17 - Evaluating {'no_components': 19, 'learning_schedule': 'adadelta', 'loss': 'bpr', 'learning_rate': 0.04380485439967821, 'item_alpha': 3.2066622129026023e-09, 'user_alpha': 1.085120125066027e-08, 'max_sampled': 8, 'num_epochs': 31}...\n",
      "18 - Evaluating {'no_components': 52, 'learning_schedule': 'adagrad', 'loss': 'warp-kos', 'learning_rate': 0.008964339487622134, 'item_alpha': 3.149371040591434e-09, 'user_alpha': 5.173231080183293e-09, 'max_sampled': 9, 'num_epochs': 19}...\n",
      "19 - Evaluating {'no_components': 40, 'learning_schedule': 'adagrad', 'loss': 'warp', 'learning_rate': 0.09165847421389046, 'item_alpha': 5.337662278124469e-09, 'user_alpha': 1.807100912876049e-08, 'max_sampled': 10, 'num_epochs': 49}...\n",
      "20 - Evaluating {'no_components': 24, 'learning_schedule': 'adagrad', 'loss': 'warp-kos', 'learning_rate': 0.014698978513475305, 'item_alpha': 4.395255326300507e-09, 'user_alpha': 1.3057298834552646e-08, 'max_sampled': 11, 'num_epochs': 24}...\n"
     ]
    }
   ],
   "source": [
    "random_search_results = []\n",
    "rs = random_search(train, test, num_samples=20, num_threads=2)\n",
    "for result in rs:\n",
    "    random_search_results.append(result)"
   ]
  },
  {
   "cell_type": "code",
   "execution_count": 64,
   "id": "fresh-secondary",
   "metadata": {
    "ExecuteTime": {
     "end_time": "2021-03-31T12:19:56.906620Z",
     "start_time": "2021-03-31T12:19:56.863472Z"
    },
    "scrolled": true
   },
   "outputs": [],
   "source": [
    "rs_result_df = pd.DataFrame(random_search_results).drop(columns=[3])\n",
    "rs_result_df = pd.concat([rs_result_df, rs_result_df[2].apply(pd.Series)], axis=1)\n",
    "rs_result_df = rs_result_df.drop(columns=[2])\n",
    "rs_result_df = rs_result_df.rename(columns={0: \"precision_at_10\", 1: \"auc\"})"
   ]
  },
  {
   "cell_type": "code",
   "execution_count": 66,
   "id": "better-effect",
   "metadata": {
    "ExecuteTime": {
     "end_time": "2021-03-31T12:20:08.487061Z",
     "start_time": "2021-03-31T12:20:08.438128Z"
    },
    "scrolled": true
   },
   "outputs": [
    {
     "data": {
      "text/html": [
       "<div>\n",
       "<style scoped>\n",
       "    .dataframe tbody tr th:only-of-type {\n",
       "        vertical-align: middle;\n",
       "    }\n",
       "\n",
       "    .dataframe tbody tr th {\n",
       "        vertical-align: top;\n",
       "    }\n",
       "\n",
       "    .dataframe thead th {\n",
       "        text-align: right;\n",
       "    }\n",
       "</style>\n",
       "<table border=\"1\" class=\"dataframe\">\n",
       "  <thead>\n",
       "    <tr style=\"text-align: right;\">\n",
       "      <th></th>\n",
       "      <th>precision_at_10</th>\n",
       "      <th>auc</th>\n",
       "      <th>no_components</th>\n",
       "      <th>learning_schedule</th>\n",
       "      <th>loss</th>\n",
       "      <th>learning_rate</th>\n",
       "      <th>item_alpha</th>\n",
       "      <th>user_alpha</th>\n",
       "      <th>max_sampled</th>\n",
       "      <th>num_epochs</th>\n",
       "    </tr>\n",
       "  </thead>\n",
       "  <tbody>\n",
       "    <tr>\n",
       "      <th>13</th>\n",
       "      <td>0.011633</td>\n",
       "      <td>0.919520</td>\n",
       "      <td>46</td>\n",
       "      <td>adadelta</td>\n",
       "      <td>warp</td>\n",
       "      <td>0.153603</td>\n",
       "      <td>1.456578e-09</td>\n",
       "      <td>2.048070e-09</td>\n",
       "      <td>8</td>\n",
       "      <td>5</td>\n",
       "    </tr>\n",
       "    <tr>\n",
       "      <th>17</th>\n",
       "      <td>0.011542</td>\n",
       "      <td>0.917115</td>\n",
       "      <td>52</td>\n",
       "      <td>adagrad</td>\n",
       "      <td>warp-kos</td>\n",
       "      <td>0.008964</td>\n",
       "      <td>3.149371e-09</td>\n",
       "      <td>5.173231e-09</td>\n",
       "      <td>9</td>\n",
       "      <td>19</td>\n",
       "    </tr>\n",
       "    <tr>\n",
       "      <th>7</th>\n",
       "      <td>0.011461</td>\n",
       "      <td>0.898658</td>\n",
       "      <td>25</td>\n",
       "      <td>adagrad</td>\n",
       "      <td>warp</td>\n",
       "      <td>0.052366</td>\n",
       "      <td>1.988822e-09</td>\n",
       "      <td>2.059722e-09</td>\n",
       "      <td>10</td>\n",
       "      <td>34</td>\n",
       "    </tr>\n",
       "    <tr>\n",
       "      <th>9</th>\n",
       "      <td>0.011376</td>\n",
       "      <td>0.898121</td>\n",
       "      <td>31</td>\n",
       "      <td>adagrad</td>\n",
       "      <td>warp</td>\n",
       "      <td>0.060298</td>\n",
       "      <td>6.675086e-09</td>\n",
       "      <td>2.496180e-09</td>\n",
       "      <td>11</td>\n",
       "      <td>49</td>\n",
       "    </tr>\n",
       "    <tr>\n",
       "      <th>6</th>\n",
       "      <td>0.011312</td>\n",
       "      <td>0.822987</td>\n",
       "      <td>27</td>\n",
       "      <td>adadelta</td>\n",
       "      <td>warp</td>\n",
       "      <td>0.027463</td>\n",
       "      <td>1.577195e-08</td>\n",
       "      <td>1.995959e-09</td>\n",
       "      <td>6</td>\n",
       "      <td>21</td>\n",
       "    </tr>\n",
       "    <tr>\n",
       "      <th>10</th>\n",
       "      <td>0.011149</td>\n",
       "      <td>0.752550</td>\n",
       "      <td>51</td>\n",
       "      <td>adadelta</td>\n",
       "      <td>warp</td>\n",
       "      <td>0.011770</td>\n",
       "      <td>1.319344e-08</td>\n",
       "      <td>2.290080e-10</td>\n",
       "      <td>9</td>\n",
       "      <td>34</td>\n",
       "    </tr>\n",
       "    <tr>\n",
       "      <th>8</th>\n",
       "      <td>0.011125</td>\n",
       "      <td>0.817457</td>\n",
       "      <td>37</td>\n",
       "      <td>adadelta</td>\n",
       "      <td>warp-kos</td>\n",
       "      <td>0.030532</td>\n",
       "      <td>5.544554e-10</td>\n",
       "      <td>2.231982e-09</td>\n",
       "      <td>6</td>\n",
       "      <td>29</td>\n",
       "    </tr>\n",
       "    <tr>\n",
       "      <th>18</th>\n",
       "      <td>0.011091</td>\n",
       "      <td>0.897756</td>\n",
       "      <td>40</td>\n",
       "      <td>adagrad</td>\n",
       "      <td>warp</td>\n",
       "      <td>0.091658</td>\n",
       "      <td>5.337662e-09</td>\n",
       "      <td>1.807101e-08</td>\n",
       "      <td>10</td>\n",
       "      <td>49</td>\n",
       "    </tr>\n",
       "    <tr>\n",
       "      <th>5</th>\n",
       "      <td>0.011049</td>\n",
       "      <td>0.711607</td>\n",
       "      <td>17</td>\n",
       "      <td>adadelta</td>\n",
       "      <td>warp</td>\n",
       "      <td>0.086658</td>\n",
       "      <td>3.006179e-09</td>\n",
       "      <td>7.612106e-10</td>\n",
       "      <td>12</td>\n",
       "      <td>37</td>\n",
       "    </tr>\n",
       "    <tr>\n",
       "      <th>1</th>\n",
       "      <td>0.010874</td>\n",
       "      <td>0.893465</td>\n",
       "      <td>34</td>\n",
       "      <td>adagrad</td>\n",
       "      <td>warp-kos</td>\n",
       "      <td>0.062470</td>\n",
       "      <td>1.314165e-08</td>\n",
       "      <td>6.222805e-09</td>\n",
       "      <td>6</td>\n",
       "      <td>48</td>\n",
       "    </tr>\n",
       "    <tr>\n",
       "      <th>19</th>\n",
       "      <td>0.010863</td>\n",
       "      <td>0.908822</td>\n",
       "      <td>24</td>\n",
       "      <td>adagrad</td>\n",
       "      <td>warp-kos</td>\n",
       "      <td>0.014699</td>\n",
       "      <td>4.395255e-09</td>\n",
       "      <td>1.305730e-08</td>\n",
       "      <td>11</td>\n",
       "      <td>24</td>\n",
       "    </tr>\n",
       "    <tr>\n",
       "      <th>14</th>\n",
       "      <td>0.010710</td>\n",
       "      <td>0.894645</td>\n",
       "      <td>23</td>\n",
       "      <td>adagrad</td>\n",
       "      <td>warp-kos</td>\n",
       "      <td>0.022172</td>\n",
       "      <td>2.925486e-08</td>\n",
       "      <td>1.112584e-08</td>\n",
       "      <td>7</td>\n",
       "      <td>48</td>\n",
       "    </tr>\n",
       "    <tr>\n",
       "      <th>12</th>\n",
       "      <td>0.010680</td>\n",
       "      <td>0.895987</td>\n",
       "      <td>24</td>\n",
       "      <td>adagrad</td>\n",
       "      <td>warp-kos</td>\n",
       "      <td>0.031529</td>\n",
       "      <td>2.421975e-09</td>\n",
       "      <td>3.184974e-09</td>\n",
       "      <td>14</td>\n",
       "      <td>21</td>\n",
       "    </tr>\n",
       "    <tr>\n",
       "      <th>4</th>\n",
       "      <td>0.010198</td>\n",
       "      <td>0.731164</td>\n",
       "      <td>25</td>\n",
       "      <td>adadelta</td>\n",
       "      <td>warp-kos</td>\n",
       "      <td>0.043788</td>\n",
       "      <td>6.442223e-10</td>\n",
       "      <td>2.199814e-11</td>\n",
       "      <td>9</td>\n",
       "      <td>49</td>\n",
       "    </tr>\n",
       "    <tr>\n",
       "      <th>2</th>\n",
       "      <td>0.008995</td>\n",
       "      <td>0.741553</td>\n",
       "      <td>58</td>\n",
       "      <td>adadelta</td>\n",
       "      <td>warp</td>\n",
       "      <td>0.040249</td>\n",
       "      <td>2.322893e-10</td>\n",
       "      <td>2.352232e-08</td>\n",
       "      <td>9</td>\n",
       "      <td>43</td>\n",
       "    </tr>\n",
       "    <tr>\n",
       "      <th>11</th>\n",
       "      <td>0.008317</td>\n",
       "      <td>0.717717</td>\n",
       "      <td>48</td>\n",
       "      <td>adadelta</td>\n",
       "      <td>warp</td>\n",
       "      <td>0.012880</td>\n",
       "      <td>1.375612e-08</td>\n",
       "      <td>1.131263e-08</td>\n",
       "      <td>13</td>\n",
       "      <td>30</td>\n",
       "    </tr>\n",
       "    <tr>\n",
       "      <th>0</th>\n",
       "      <td>0.004475</td>\n",
       "      <td>0.539372</td>\n",
       "      <td>44</td>\n",
       "      <td>adagrad</td>\n",
       "      <td>bpr</td>\n",
       "      <td>0.017837</td>\n",
       "      <td>7.053407e-09</td>\n",
       "      <td>1.346543e-08</td>\n",
       "      <td>7</td>\n",
       "      <td>32</td>\n",
       "    </tr>\n",
       "    <tr>\n",
       "      <th>3</th>\n",
       "      <td>0.002672</td>\n",
       "      <td>0.330373</td>\n",
       "      <td>48</td>\n",
       "      <td>adagrad</td>\n",
       "      <td>bpr</td>\n",
       "      <td>0.077503</td>\n",
       "      <td>2.443003e-08</td>\n",
       "      <td>1.793744e-08</td>\n",
       "      <td>10</td>\n",
       "      <td>47</td>\n",
       "    </tr>\n",
       "    <tr>\n",
       "      <th>16</th>\n",
       "      <td>0.002139</td>\n",
       "      <td>0.279948</td>\n",
       "      <td>19</td>\n",
       "      <td>adadelta</td>\n",
       "      <td>bpr</td>\n",
       "      <td>0.043805</td>\n",
       "      <td>3.206662e-09</td>\n",
       "      <td>1.085120e-08</td>\n",
       "      <td>8</td>\n",
       "      <td>31</td>\n",
       "    </tr>\n",
       "    <tr>\n",
       "      <th>15</th>\n",
       "      <td>0.002103</td>\n",
       "      <td>0.247833</td>\n",
       "      <td>27</td>\n",
       "      <td>adadelta</td>\n",
       "      <td>bpr</td>\n",
       "      <td>0.043701</td>\n",
       "      <td>7.195781e-09</td>\n",
       "      <td>1.165352e-08</td>\n",
       "      <td>13</td>\n",
       "      <td>48</td>\n",
       "    </tr>\n",
       "  </tbody>\n",
       "</table>\n",
       "</div>"
      ],
      "text/plain": [
       "    precision_at_10       auc  no_components learning_schedule      loss  \\\n",
       "13         0.011633  0.919520             46          adadelta      warp   \n",
       "17         0.011542  0.917115             52           adagrad  warp-kos   \n",
       "7          0.011461  0.898658             25           adagrad      warp   \n",
       "9          0.011376  0.898121             31           adagrad      warp   \n",
       "6          0.011312  0.822987             27          adadelta      warp   \n",
       "10         0.011149  0.752550             51          adadelta      warp   \n",
       "8          0.011125  0.817457             37          adadelta  warp-kos   \n",
       "18         0.011091  0.897756             40           adagrad      warp   \n",
       "5          0.011049  0.711607             17          adadelta      warp   \n",
       "1          0.010874  0.893465             34           adagrad  warp-kos   \n",
       "19         0.010863  0.908822             24           adagrad  warp-kos   \n",
       "14         0.010710  0.894645             23           adagrad  warp-kos   \n",
       "12         0.010680  0.895987             24           adagrad  warp-kos   \n",
       "4          0.010198  0.731164             25          adadelta  warp-kos   \n",
       "2          0.008995  0.741553             58          adadelta      warp   \n",
       "11         0.008317  0.717717             48          adadelta      warp   \n",
       "0          0.004475  0.539372             44           adagrad       bpr   \n",
       "3          0.002672  0.330373             48           adagrad       bpr   \n",
       "16         0.002139  0.279948             19          adadelta       bpr   \n",
       "15         0.002103  0.247833             27          adadelta       bpr   \n",
       "\n",
       "    learning_rate    item_alpha    user_alpha  max_sampled  num_epochs  \n",
       "13       0.153603  1.456578e-09  2.048070e-09            8           5  \n",
       "17       0.008964  3.149371e-09  5.173231e-09            9          19  \n",
       "7        0.052366  1.988822e-09  2.059722e-09           10          34  \n",
       "9        0.060298  6.675086e-09  2.496180e-09           11          49  \n",
       "6        0.027463  1.577195e-08  1.995959e-09            6          21  \n",
       "10       0.011770  1.319344e-08  2.290080e-10            9          34  \n",
       "8        0.030532  5.544554e-10  2.231982e-09            6          29  \n",
       "18       0.091658  5.337662e-09  1.807101e-08           10          49  \n",
       "5        0.086658  3.006179e-09  7.612106e-10           12          37  \n",
       "1        0.062470  1.314165e-08  6.222805e-09            6          48  \n",
       "19       0.014699  4.395255e-09  1.305730e-08           11          24  \n",
       "14       0.022172  2.925486e-08  1.112584e-08            7          48  \n",
       "12       0.031529  2.421975e-09  3.184974e-09           14          21  \n",
       "4        0.043788  6.442223e-10  2.199814e-11            9          49  \n",
       "2        0.040249  2.322893e-10  2.352232e-08            9          43  \n",
       "11       0.012880  1.375612e-08  1.131263e-08           13          30  \n",
       "0        0.017837  7.053407e-09  1.346543e-08            7          32  \n",
       "3        0.077503  2.443003e-08  1.793744e-08           10          47  \n",
       "16       0.043805  3.206662e-09  1.085120e-08            8          31  \n",
       "15       0.043701  7.195781e-09  1.165352e-08           13          48  "
      ]
     },
     "execution_count": 66,
     "metadata": {},
     "output_type": "execute_result"
    }
   ],
   "source": [
    "rs_result_df.sort_values([\"precision_at_10\"], ascending=False)"
   ]
  },
  {
   "cell_type": "markdown",
   "id": "reflected-creek",
   "metadata": {},
   "source": [
    "Hyper-parameter tuning does not help increase the model performance."
   ]
  },
  {
   "cell_type": "markdown",
   "id": "lightweight-communist",
   "metadata": {},
   "source": [
    "# Popular recommender"
   ]
  },
  {
   "cell_type": "code",
   "execution_count": 69,
   "id": "controversial-samuel",
   "metadata": {
    "ExecuteTime": {
     "end_time": "2021-03-31T14:21:49.114237Z",
     "start_time": "2021-03-31T14:21:48.920544Z"
    }
   },
   "outputs": [],
   "source": [
    "pop_res = rez_df.groupby([\"RestaurantUID\"]).agg({\"rez_id\": [\"nunique\"]})\n",
    "pop_res.columns = [\"_\".join(cols) for cols in pop_res.columns]"
   ]
  },
  {
   "cell_type": "code",
   "execution_count": 89,
   "id": "frequent-motorcycle",
   "metadata": {
    "ExecuteTime": {
     "end_time": "2021-03-31T14:32:26.084677Z",
     "start_time": "2021-03-31T14:32:26.046285Z"
    }
   },
   "outputs": [],
   "source": [
    "pop_rec_df = pop_res.sort_values([\"rez_id_nunique\"], ascending=False).iloc[:10]"
   ]
  },
  {
   "cell_type": "code",
   "execution_count": 90,
   "id": "american-steel",
   "metadata": {
    "ExecuteTime": {
     "end_time": "2021-03-31T14:32:26.273980Z",
     "start_time": "2021-03-31T14:32:26.241369Z"
    }
   },
   "outputs": [],
   "source": [
    "pop_rec = list(pop_rec_df.index)"
   ]
  },
  {
   "cell_type": "code",
   "execution_count": 91,
   "id": "copyrighted-bloom",
   "metadata": {
    "ExecuteTime": {
     "end_time": "2021-03-31T14:32:29.038476Z",
     "start_time": "2021-03-31T14:32:29.001251Z"
    }
   },
   "outputs": [
    {
     "data": {
      "text/plain": [
       "['jumboseafoodriversidepoint55asd58r9',\n",
       " 'jumboseafoodgallery35dfs43r6',\n",
       " 'jumboseafoodeastcoast1508jse',\n",
       " 'blukouzina82fps33a-4',\n",
       " 'wildhoneymg35dfs95r2',\n",
       " 'nationalkitchenbyviolet1511nkv',\n",
       " 'level33872668a-4',\n",
       " 'fatcow1706ftc',\n",
       " 'newubinseafood89joa12a-4',\n",
       " 'shinminorijapaneserestaurant1503smj']"
      ]
     },
     "execution_count": 91,
     "metadata": {},
     "output_type": "execute_result"
    }
   ],
   "source": [
    "pop_rec"
   ]
  },
  {
   "cell_type": "markdown",
   "id": "incorporate-connectivity",
   "metadata": {},
   "source": [
    "# Persist model"
   ]
  },
  {
   "cell_type": "code",
   "execution_count": 135,
   "id": "pressed-music",
   "metadata": {
    "ExecuteTime": {
     "end_time": "2021-03-30T15:23:19.851797Z",
     "start_time": "2021-03-30T15:23:19.583154Z"
    }
   },
   "outputs": [],
   "source": [
    "import pickle\n",
    "\n",
    "OUTPUT_MODEL_DIR = \"../models/lfm/\"\n",
    "\n",
    "with open(OUTPUT_MODEL_DIR + \"lfm_model.pkl\", \"wb\") as f:\n",
    "    pickle.dump(model, f)\n",
    "\n",
    "with open(OUTPUT_MODEL_DIR + \"lfm_dataset.pkl\", \"wb\") as f:\n",
    "    pickle.dump(dataset, f)"
   ]
  },
  {
   "cell_type": "markdown",
   "id": "severe-fourth",
   "metadata": {},
   "source": [
    "## Load"
   ]
  },
  {
   "cell_type": "code",
   "execution_count": 143,
   "id": "numerical-research",
   "metadata": {
    "ExecuteTime": {
     "end_time": "2021-03-30T15:27:33.109783Z",
     "start_time": "2021-03-30T15:27:33.005375Z"
    }
   },
   "outputs": [],
   "source": [
    "with open(OUTPUT_MODEL_DIR + \"lfm_model.pkl\", \"rb\") as f:\n",
    "    model = pickle.load(f)"
   ]
  },
  {
   "cell_type": "code",
   "execution_count": 146,
   "id": "pharmaceutical-nevada",
   "metadata": {
    "ExecuteTime": {
     "end_time": "2021-03-30T15:27:51.983492Z",
     "start_time": "2021-03-30T15:27:51.818801Z"
    }
   },
   "outputs": [],
   "source": [
    "with open(OUTPUT_MODEL_DIR + \"lfm_dataset.pkl\", \"rb\") as f:\n",
    "    dataset = pickle.load(f)"
   ]
  },
  {
   "cell_type": "markdown",
   "id": "accessory-danish",
   "metadata": {},
   "source": [
    "# Predict"
   ]
  },
  {
   "cell_type": "markdown",
   "id": "continuing-thanks",
   "metadata": {},
   "source": [
    "## Predict individual"
   ]
  },
  {
   "cell_type": "code",
   "execution_count": 83,
   "id": "sudden-coordinator",
   "metadata": {
    "ExecuteTime": {
     "end_time": "2021-03-30T09:56:55.585841Z",
     "start_time": "2021-03-30T09:56:55.481878Z"
    }
   },
   "outputs": [],
   "source": [
    "items_map = np.array(list(dataset.mapping()[2].keys()))\n",
    "users_map = np.array(list(dataset.mapping()[0].keys()))"
   ]
  },
  {
   "cell_type": "code",
   "execution_count": 84,
   "id": "handed-rebel",
   "metadata": {
    "ExecuteTime": {
     "end_time": "2021-03-30T09:56:55.603150Z",
     "start_time": "2021-03-30T09:56:55.586733Z"
    }
   },
   "outputs": [
    {
     "data": {
      "text/plain": [
       "array(['000016d31b46d5b64dec58ace9f0720d',\n",
       "       '000034f9763e2b654481b97d8752db51',\n",
       "       '00005ad3e1efe6ca52efe1d67578048f', ...,\n",
       "       'fffefc6fe6dc2e68448207a63b058c74',\n",
       "       'ffff8e009ade13a7a04140bb76306ae2',\n",
       "       'ffffd8a2426ea89ee020c00c71f90653'], dtype='<U32')"
      ]
     },
     "execution_count": 84,
     "metadata": {},
     "output_type": "execute_result"
    }
   ],
   "source": [
    "users_map"
   ]
  },
  {
   "cell_type": "code",
   "execution_count": 85,
   "id": "chubby-input",
   "metadata": {
    "ExecuteTime": {
     "end_time": "2021-03-30T09:56:55.620368Z",
     "start_time": "2021-03-30T09:56:55.604085Z"
    }
   },
   "outputs": [],
   "source": [
    "def sample_recommendation(model, user_ids, users_map, items_map, k: int):\n",
    "    n_items = len(items_map)\n",
    "    for user_id in user_ids:\n",
    "        scores = model.predict(user_id, np.arange(n_items))\n",
    "        top_items = items_map[np.argsort(-scores)]\n",
    "        user = users_map[user_id]\n",
    "        print(f\"Recommendations for user {user}:\")\n",
    "\n",
    "        for x in top_items[:k]:\n",
    "            print(\"   %s\" % x)"
   ]
  },
  {
   "cell_type": "code",
   "execution_count": 86,
   "id": "french-chosen",
   "metadata": {
    "ExecuteTime": {
     "end_time": "2021-03-30T09:56:55.638046Z",
     "start_time": "2021-03-30T09:56:55.621332Z"
    },
    "scrolled": true
   },
   "outputs": [
    {
     "name": "stdout",
     "output_type": "stream",
     "text": [
      "Recommendations for user 0001d5416821f2fc4ac68862a87c581c:\n",
      "   jumboseafoodriversidepoint55asd58r9\n",
      "   jumboseafoodgallery35dfs43r6\n",
      "   jumboseafoodeastcoast1508jse\n",
      "   blukouzina82fps33a-4\n",
      "   wildhoneymg35dfs95r2\n",
      "   nationalkitchenbyviolet1511nkv\n",
      "   level33872668a-4\n",
      "   shinminorijapaneserestaurant1503smj\n",
      "   newubinseafood89joa12a-4\n",
      "   fatcow1706ftc\n"
     ]
    }
   ],
   "source": [
    "sample_recommendation(model, [10], users_map, items_map, k=10)"
   ]
  },
  {
   "cell_type": "markdown",
   "id": "sought-movement",
   "metadata": {},
   "source": [
    "# Persist model"
   ]
  },
  {
   "cell_type": "code",
   "execution_count": 80,
   "id": "collected-compromise",
   "metadata": {
    "ExecuteTime": {
     "end_time": "2021-03-31T14:26:37.777909Z",
     "start_time": "2021-03-31T14:26:37.738071Z"
    }
   },
   "outputs": [
    {
     "name": "stdout",
     "output_type": "stream",
     "text": [
      "Writing pop_rec_artifact.py\n"
     ]
    }
   ],
   "source": [
    "%%writefile pop_rec_artifact.py\n",
    "\n",
    "import os\n",
    "from bentoml.utils import cloudpickle\n",
    "from bentoml.service.artifacts import BentoServiceArtifact\n",
    "\n",
    "\n",
    "class PopRecArtifact(BentoServiceArtifact):\n",
    "    def __init__(self, name):\n",
    "        super(PopRecArtifact, self).__init__(name)\n",
    "        self._model = None\n",
    "\n",
    "    def pack(self, model, metadata=None):\n",
    "        self._model = model\n",
    "        return self\n",
    "\n",
    "    def get(self):\n",
    "        return self._model\n",
    "\n",
    "    def save(self, directory):\n",
    "        path = self._file_path(directory)\n",
    "        with open(path, \"wb\") as file:\n",
    "            cloudpickle.dump(self._model, file)\n",
    "\n",
    "    def load(self, path):\n",
    "        with open(self._file_path(path), \"rb\") as file:\n",
    "            model = cloudpickle.load(file)\n",
    "        return self.pack(model)\n",
    "\n",
    "    def _file_path(self, base_path):\n",
    "        return os.path.join(base_path, self.name + \".pkl\")"
   ]
  },
  {
   "cell_type": "code",
   "execution_count": 81,
   "id": "rising-paradise",
   "metadata": {
    "ExecuteTime": {
     "end_time": "2021-03-31T14:26:42.211075Z",
     "start_time": "2021-03-31T14:26:42.168596Z"
    }
   },
   "outputs": [
    {
     "name": "stdout",
     "output_type": "stream",
     "text": [
      "Overwriting bento_lfm_artifacts.py\n"
     ]
    }
   ],
   "source": [
    "%%writefile bento_lfm_artifacts.py\n",
    "\n",
    "import os\n",
    "from bentoml.utils import cloudpickle\n",
    "from bentoml.service.artifacts import BentoServiceArtifact\n",
    "\n",
    "\n",
    "class LightFMModelArtifact(BentoServiceArtifact):\n",
    "    def __init__(self, name):\n",
    "        super(LightFMModelArtifact, self).__init__(name)\n",
    "        self._model = None\n",
    "\n",
    "    def pack(self, model, metadata=None):\n",
    "        self._model = model\n",
    "        return self\n",
    "\n",
    "    def get(self):\n",
    "        return self._model\n",
    "\n",
    "    def save(self, directory):\n",
    "        path = self._file_path(directory)\n",
    "        with open(path, \"wb\") as file:\n",
    "            cloudpickle.dump(self._model, file)\n",
    "\n",
    "    def load(self, path):\n",
    "        with open(self._file_path(path), \"rb\") as file:\n",
    "            model = cloudpickle.load(file)\n",
    "        return self.pack(model)\n",
    "\n",
    "    def _file_path(self, base_path):\n",
    "        return os.path.join(base_path, self.name + \".pkl\")\n",
    "\n",
    "\n",
    "class LightFMDatasetArtifact(LightFMModelArtifact):\n",
    "    def __init__(self, name):\n",
    "        super(LightFMDatasetArtifact, self).__init__(name)\n",
    "        self._model = None"
   ]
  },
  {
   "cell_type": "code",
   "execution_count": 160,
   "id": "mounted-burner",
   "metadata": {
    "ExecuteTime": {
     "end_time": "2021-03-31T15:05:12.694207Z",
     "start_time": "2021-03-31T15:05:12.648953Z"
    }
   },
   "outputs": [
    {
     "name": "stdout",
     "output_type": "stream",
     "text": [
      "Overwriting bento_lfm_service.py\n"
     ]
    }
   ],
   "source": [
    "%%writefile bento_lfm_service.py\n",
    "\n",
    "from bento_lfm_artifacts import LightFMModelArtifact, LightFMDatasetArtifact\n",
    "from pop_rec_artifact import PopRecArtifact\n",
    "from bentoml import BentoService, env, api, artifacts\n",
    "from bentoml.adapters import JsonInput, JsonOutput\n",
    "from bentoml.exceptions import BadInput\n",
    "\n",
    "import numpy as np\n",
    "from string import punctuation\n",
    "\n",
    "\n",
    "@env(infer_pip_packages=True)\n",
    "@artifacts(\n",
    "    [\n",
    "        LightFMModelArtifact(name=\"model\"),\n",
    "        LightFMDatasetArtifact(name=\"dataset\"),\n",
    "        PopRecArtifact(name=\"pop_rec\"),\n",
    "    ]\n",
    ")\n",
    "class LightFMRecService(BentoService):\n",
    "    @api(input=JsonInput(), output=JsonOutput(), batch=True)\n",
    "    def recommend(self, input_data):\n",
    "        model = self.artifacts.model\n",
    "        pop_rec = self.artifacts.pop_rec\n",
    "        dataset = self.artifacts.dataset\n",
    "        items_map = dataset.mapping()[2]\n",
    "        users_map = dataset.mapping()[0]\n",
    "        if isinstance(input_data, dict):\n",
    "            input_data = [input_data]\n",
    "        if len(input_data) > 1:\n",
    "            return [{\"message\": BadInput(f\"input has too many elements\")}]\n",
    "        input_data = input_data[0]\n",
    "        if not isinstance(input_data, dict):\n",
    "            return [{\"message\": BadInput(f\"input type is not allowed\")}]\n",
    "        hashed_email = input_data.get('hashed_email')\n",
    "        if hashed_email is None or any(p in hashed_email for p in punctuation):\n",
    "            return [{\"message\": BadInput(f\"input {hashed_email} is not accepted\")}]\n",
    "        recommendations = self._recommend(\n",
    "            model, hashed_email, users_map, items_map, k=3, pop_rec=pop_rec\n",
    "        )\n",
    "        result = {\n",
    "            \"meta\": input_data,\n",
    "            \"data\": {\"recommendations\": recommendations},\n",
    "        }\n",
    "        return [result]\n",
    "\n",
    "    @staticmethod\n",
    "    def _recommend(model, user_id, users_map, items_map, k: int, pop_rec):\n",
    "        items_arr = np.array(list(items_map.keys()))\n",
    "        n_items = len(items_map)\n",
    "\n",
    "        _user_id = users_map.get(user_id)\n",
    "        if _user_id is None:\n",
    "            return pop_rec[:k]\n",
    "        scores = model.predict(_user_id, np.arange(n_items))\n",
    "        top_items = items_arr[np.argsort(-scores)]\n",
    "        return list(top_items[:k])\n"
   ]
  },
  {
   "cell_type": "code",
   "execution_count": 156,
   "id": "separate-brand",
   "metadata": {
    "ExecuteTime": {
     "end_time": "2021-03-31T15:03:50.834404Z",
     "start_time": "2021-03-31T15:03:50.679621Z"
    }
   },
   "outputs": [
    {
     "data": {
      "text/plain": [
       "<bento_lfm_service.LightFMRecService at 0x7fa15409d940>"
      ]
     },
     "execution_count": 156,
     "metadata": {},
     "output_type": "execute_result"
    }
   ],
   "source": [
    "from bento_lfm_service import LightFMRecService\n",
    "\n",
    "lfm_service = LightFMRecService()\n",
    "\n",
    "lfm_service.pack(\"model\", model)\n",
    "lfm_service.pack(\"dataset\", dataset)\n",
    "lfm_service.pack(\"pop_rec\", pop_rec)"
   ]
  },
  {
   "cell_type": "code",
   "execution_count": 157,
   "id": "refined-contrast",
   "metadata": {
    "ExecuteTime": {
     "end_time": "2021-03-31T15:03:52.114910Z",
     "start_time": "2021-03-31T15:03:52.071121Z"
    }
   },
   "outputs": [
    {
     "data": {
      "text/plain": [
       "[{'meta': {'hashed_email': 'a'},\n",
       "  'data': {'recommendations': ['jumboseafoodriversidepoint55asd58r9',\n",
       "    'jumboseafoodgallery35dfs43r6',\n",
       "    'jumboseafoodeastcoast1508jse']}}]"
      ]
     },
     "execution_count": 157,
     "metadata": {},
     "output_type": "execute_result"
    }
   ],
   "source": [
    "lfm_service.recommend({'hashed_email': 'a'})"
   ]
  },
  {
   "cell_type": "markdown",
   "id": "twelve-jenny",
   "metadata": {},
   "source": [
    "# Save predict service to disk"
   ]
  },
  {
   "cell_type": "code",
   "execution_count": 158,
   "id": "clean-timothy",
   "metadata": {
    "ExecuteTime": {
     "end_time": "2021-03-31T15:03:56.441628Z",
     "start_time": "2021-03-31T15:03:53.340969Z"
    }
   },
   "outputs": [
    {
     "name": "stdout",
     "output_type": "stream",
     "text": [
      "[2021-03-31 22:03:54,265] WARNING - Resetting BentoService 'LightFMRecService' version from 20210331220353_8476D3 to v0.1\n",
      "[2021-03-31 22:03:56,436] INFO - BentoService bundle 'LightFMRecService:v0.1' saved to: /Users/quydv1/bentoml/repository/LightFMRecService/v0.1\n"
     ]
    }
   ],
   "source": [
    "saved_path = lfm_service.save(version=\"v0.1\")"
   ]
  },
  {
   "cell_type": "markdown",
   "id": "indoor-large",
   "metadata": {},
   "source": [
    "# REST API Model Serving"
   ]
  },
  {
   "cell_type": "code",
   "execution_count": 159,
   "id": "vanilla-accommodation",
   "metadata": {
    "ExecuteTime": {
     "end_time": "2021-03-31T15:04:58.653581Z",
     "start_time": "2021-03-31T15:03:59.951371Z"
    }
   },
   "outputs": [
    {
     "name": "stdout",
     "output_type": "stream",
     "text": [
      "[2021-03-31 22:04:01,554] INFO - Starting BentoML API proxy in development mode..\n",
      "[2021-03-31 22:04:01,673] INFO - Your system nofile limit is 4096, which means each instance of microbatch service is able to hold this number of connections at same time. You can increase the number of file descriptors for the server process, or launch more microbatch instances to accept more concurrent connection.\n",
      "======== Running on http://0.0.0.0:5000 ========\n",
      "(Press CTRL+C to quit)\n",
      "[2021-03-31 22:04:02,005] INFO - Starting BentoML API server in development mode..\n",
      "/Users/quydv1/miniconda3/envs/chope-mle/lib/python3.8/site-packages/lightfm/_lightfm_fast.py:9: UserWarning: LightFM was compiled without OpenMP support. Only a single thread will be used.\n",
      "  warnings.warn(\n",
      " * Serving Flask app \"LightFMRecService\" (lazy loading)\n",
      " * Environment: production\n",
      "\u001b[31m   WARNING: This is a development server. Do not use it in a production deployment.\u001b[0m\n",
      "\u001b[2m   Use a production WSGI server instead.\u001b[0m\n",
      " * Debug mode: off\n",
      " * Running on http://127.0.0.1:54018/ (Press CTRL+C to quit)\n",
      "127.0.0.1 - - [31/Mar/2021 22:04:06] \"\u001b[37mGET / HTTP/1.1\u001b[0m\" 200 -\n",
      "127.0.0.1 - - [31/Mar/2021 22:04:07] \"\u001b[37mGET /docs.json HTTP/1.1\u001b[0m\" 200 -\n",
      "[2021-03-31 22:04:11,739] ERROR - Error caught in API function:\n",
      "Traceback (most recent call last):\n",
      "  File \"/Users/quydv1/miniconda3/envs/chope-mle/lib/python3.8/site-packages/bentoml/service/inference_api.py\", line 177, in wrapped_func\n",
      "    return self._user_func(*args, **kwargs)\n",
      "  File \"/Users/quydv1/bentoml/repository/LightFMRecService/v0.1/LightFMRecService/bento_lfm_service.py\", line 32, in recommend\n",
      "    input_data = input_data[0]\n",
      "IndexError: list index out of range\n",
      "127.0.0.1 - - [31/Mar/2021 22:04:11] \"\u001b[31m\u001b[1mPOST /recommend HTTP/1.1\u001b[0m\" 400 -\n",
      "[2021-03-31 22:04:15,885] INFO - {'service_name': 'LightFMRecService', 'service_version': 'v0.1', 'api': 'recommend', 'task': {'data': '\"asdfasdf\"', 'task_id': '50c9622a-68ab-430d-b0e3-ad70e772e87c', 'http_headers': (('Host', 'localhost:5000'), ('Connection', 'keep-alive'), ('Content-Length', '10'), ('Sec-Ch-Ua', '\"Google Chrome\";v=\"89\", \"Chromium\";v=\"89\", \";Not A Brand\";v=\"99\"'), ('Accept', '*/*'), ('Sec-Ch-Ua-Mobile', '?0'), ('User-Agent', 'Mozilla/5.0 (Macintosh; Intel Mac OS X 11_1_0) AppleWebKit/537.36 (KHTML, like Gecko) Chrome/89.0.4389.90 Safari/537.36'), ('Content-Type', 'application/json'), ('Origin', 'http://localhost:5000'), ('Sec-Fetch-Site', 'same-origin'), ('Sec-Fetch-Mode', 'cors'), ('Sec-Fetch-Dest', 'empty'), ('Referer', 'http://localhost:5000/'), ('Accept-Encoding', 'gzip, deflate, br'), ('Accept-Language', 'en-US,en;q=0.9,vi;q=0.8'), ('Cookie', '_xsrf=2|5151c476|1b8f8744209d742d2beb63ee912371a4|1616886096; username-localhost-8888=\"2|1:0|10:1616886211|23:username-localhost-8888|44:MWI1Y2E0NzNjNmJjNDg4YTg4N2U1ZTA0Zjk5NmZmZDA=|8e95be4183c8de2ad862f1e2949fd03df22862902d371ba6effed5d206eaf878\"; username-localhost-8889=\"2|1:0|10:1617097170|23:username-localhost-8889|44:NzY0OTZjZTBkZWIxNGNiZWI4OWY5Nzg0NDc2NTU4NzU=|afbfd1d8f3db70068be6de292257ea41be31a524ad0c3bbe0f1f61a97488f0d2\"; username-localhost-8899=\"2|1:0|10:1617186642|23:username-localhost-8899|44:Nzg4Mjk2MWIyMjMwNDRlOGFjMzkwZjUwMWYwNDFmZGM=|2afed1d2c510dec066c1834aa795aecbf6b3fe8c53216c2bbfba4dfcd1e6d20c\"'))}, 'result': {'data': '{\"message\": {\"unknown_obj\": \"input type is not allowed\"}}', 'http_status': 200, 'http_headers': (('Content-Type', 'application/json'),)}, 'request_id': '50c9622a-68ab-430d-b0e3-ad70e772e87c'}\n",
      "127.0.0.1 - - [31/Mar/2021 22:04:15] \"\u001b[37mPOST /recommend HTTP/1.1\u001b[0m\" 200 -\n",
      "[2021-03-31 22:04:44,253] ERROR - Error caught in API function:\n",
      "Traceback (most recent call last):\n",
      "  File \"/Users/quydv1/miniconda3/envs/chope-mle/lib/python3.8/site-packages/bentoml/service/inference_api.py\", line 177, in wrapped_func\n",
      "    return self._user_func(*args, **kwargs)\n",
      "  File \"/Users/quydv1/bentoml/repository/LightFMRecService/v0.1/LightFMRecService/bento_lfm_service.py\", line 32, in recommend\n",
      "    input_data = input_data[0]\n",
      "IndexError: list index out of range\n",
      "127.0.0.1 - - [31/Mar/2021 22:04:44] \"\u001b[31m\u001b[1mPOST /recommend HTTP/1.1\u001b[0m\" 400 -\n",
      "[2021-03-31 22:04:53,341] INFO - {'service_name': 'LightFMRecService', 'service_version': 'v0.1', 'api': 'recommend', 'task': {'data': '{\"hashed_email\":\"asdfasdf\"}', 'task_id': 'abf69615-9bb0-4e92-adf0-3b7a28ede4a4', 'http_headers': (('Host', 'localhost:5000'), ('Connection', 'keep-alive'), ('Content-Length', '27'), ('Sec-Ch-Ua', '\"Google Chrome\";v=\"89\", \"Chromium\";v=\"89\", \";Not A Brand\";v=\"99\"'), ('Accept', '*/*'), ('Sec-Ch-Ua-Mobile', '?0'), ('User-Agent', 'Mozilla/5.0 (Macintosh; Intel Mac OS X 11_1_0) AppleWebKit/537.36 (KHTML, like Gecko) Chrome/89.0.4389.90 Safari/537.36'), ('Content-Type', 'application/json'), ('Origin', 'http://localhost:5000'), ('Sec-Fetch-Site', 'same-origin'), ('Sec-Fetch-Mode', 'cors'), ('Sec-Fetch-Dest', 'empty'), ('Referer', 'http://localhost:5000/'), ('Accept-Encoding', 'gzip, deflate, br'), ('Accept-Language', 'en-US,en;q=0.9,vi;q=0.8'), ('Cookie', '_xsrf=2|5151c476|1b8f8744209d742d2beb63ee912371a4|1616886096; username-localhost-8888=\"2|1:0|10:1616886211|23:username-localhost-8888|44:MWI1Y2E0NzNjNmJjNDg4YTg4N2U1ZTA0Zjk5NmZmZDA=|8e95be4183c8de2ad862f1e2949fd03df22862902d371ba6effed5d206eaf878\"; username-localhost-8889=\"2|1:0|10:1617097170|23:username-localhost-8889|44:NzY0OTZjZTBkZWIxNGNiZWI4OWY5Nzg0NDc2NTU4NzU=|afbfd1d8f3db70068be6de292257ea41be31a524ad0c3bbe0f1f61a97488f0d2\"; username-localhost-8899=\"2|1:0|10:1617186642|23:username-localhost-8899|44:Nzg4Mjk2MWIyMjMwNDRlOGFjMzkwZjUwMWYwNDFmZGM=|2afed1d2c510dec066c1834aa795aecbf6b3fe8c53216c2bbfba4dfcd1e6d20c\"'))}, 'result': {'data': '{\"meta\": {\"hashed_email\": \"asdfasdf\"}, \"data\": {\"recommendations\": [\"jumboseafoodriversidepoint55asd58r9\", \"jumboseafoodgallery35dfs43r6\", \"jumboseafoodeastcoast1508jse\"]}}', 'http_status': 200, 'http_headers': (('Content-Type', 'application/json'),)}, 'request_id': 'abf69615-9bb0-4e92-adf0-3b7a28ede4a4'}\n",
      "127.0.0.1 - - [31/Mar/2021 22:04:53] \"\u001b[37mPOST /recommend HTTP/1.1\u001b[0m\" 200 -\n",
      "^C\n"
     ]
    }
   ],
   "source": [
    "!bentoml serve LightFMRecService:v0.1"
   ]
  },
  {
   "cell_type": "markdown",
   "id": "decent-yacht",
   "metadata": {},
   "source": [
    "# Predict for all users"
   ]
  },
  {
   "cell_type": "code",
   "execution_count": 41,
   "id": "featured-planet",
   "metadata": {
    "ExecuteTime": {
     "end_time": "2021-03-30T05:07:17.023966Z",
     "start_time": "2021-03-30T05:07:17.021764Z"
    }
   },
   "outputs": [],
   "source": [
    "def chunks(lst, n):\n",
    "    \"\"\"Yield successive n-sized chunks from lst.\"\"\"\n",
    "    for i in range(0, len(lst), n):\n",
    "        yield lst[i:i + n]"
   ]
  },
  {
   "cell_type": "code",
   "execution_count": 103,
   "id": "desperate-madonna",
   "metadata": {
    "ExecuteTime": {
     "end_time": "2021-03-30T06:24:50.382164Z",
     "start_time": "2021-03-30T06:24:50.376507Z"
    }
   },
   "outputs": [],
   "source": [
    "CHUNK_SIZE = 10000\n",
    "\n",
    "_item_ids = np.arange(dataset.item_features_shape()[0])\n",
    "_user_ids = chunks(np.arange(dataset.user_features_shape()[0]), CHUNK_SIZE)"
   ]
  },
  {
   "cell_type": "code",
   "execution_count": 43,
   "id": "going-sessions",
   "metadata": {
    "ExecuteTime": {
     "end_time": "2021-03-30T05:07:17.031604Z",
     "start_time": "2021-03-30T05:07:17.027825Z"
    }
   },
   "outputs": [],
   "source": [
    "def lfm_predict(model, user_ids, item_ids, k: int):\n",
    "    user_ids_ = np.repeat(np.int32(user_ids), len(item_ids))\n",
    "    item_ids_ = np.int32(np.tile(item_ids, len(user_ids)))\n",
    "    predictions = model.predict(user_ids_, item_ids_)\n",
    "    predictions_df = pd.DataFrame({'user_id': user_ids_, 'item_id': item_ids_, 'score': predictions })\n",
    "    output = predictions_df.sort_values('score', ascending=False).groupby(['user_id']).head(k)\n",
    "    return output"
   ]
  },
  {
   "cell_type": "code",
   "execution_count": 44,
   "id": "material-fusion",
   "metadata": {
    "ExecuteTime": {
     "end_time": "2021-03-30T05:14:38.521263Z",
     "start_time": "2021-03-30T05:07:17.033708Z"
    }
   },
   "outputs": [
    {
     "data": {
      "application/vnd.jupyter.widget-view+json": {
       "model_id": "e2e26b6003ea4ffb8fde044bc9f9c5ad",
       "version_major": 2,
       "version_minor": 0
      },
      "text/plain": [
       "0it [00:00, ?it/s]"
      ]
     },
     "metadata": {},
     "output_type": "display_data"
    },
    {
     "name": "stdout",
     "output_type": "stream",
     "text": [
      "Saving ../data/output_0000.parquet\n",
      "Saving ../data/output_0001.parquet\n",
      "Saving ../data/output_0002.parquet\n",
      "Saving ../data/output_0003.parquet\n",
      "Saving ../data/output_0004.parquet\n",
      "Saving ../data/output_0005.parquet\n",
      "Saving ../data/output_0006.parquet\n",
      "Saving ../data/output_0007.parquet\n",
      "Saving ../data/output_0008.parquet\n",
      "Saving ../data/output_0009.parquet\n",
      "Saving ../data/output_0010.parquet\n",
      "Saving ../data/output_0011.parquet\n",
      "Saving ../data/output_0012.parquet\n",
      "Saving ../data/output_0013.parquet\n",
      "Saving ../data/output_0014.parquet\n",
      "Saving ../data/output_0015.parquet\n",
      "Saving ../data/output_0016.parquet\n",
      "Saving ../data/output_0017.parquet\n",
      "Saving ../data/output_0018.parquet\n",
      "Saving ../data/output_0019.parquet\n",
      "Saving ../data/output_0020.parquet\n",
      "Saving ../data/output_0021.parquet\n",
      "Saving ../data/output_0022.parquet\n",
      "Saving ../data/output_0023.parquet\n",
      "Saving ../data/output_0024.parquet\n",
      "Saving ../data/output_0025.parquet\n",
      "Saving ../data/output_0026.parquet\n",
      "Saving ../data/output_0027.parquet\n",
      "Saving ../data/output_0028.parquet\n",
      "Saving ../data/output_0029.parquet\n",
      "Saving ../data/output_0030.parquet\n",
      "Saving ../data/output_0031.parquet\n"
     ]
    }
   ],
   "source": [
    "OUTPUT_PRED_DIR = \"../data/output\"\n",
    "i = 0\n",
    "for _uids in tqdm(_user_ids):\n",
    "    uids = list(_uids)\n",
    "    _output = lfm_predict(model, uids, _item_ids, k=10)\n",
    "    output_fpath = f'{OUTPUT_PRED_DIR}/output_predictions_{str(i).zfill(4)}.parquet'\n",
    "    print(f\"Saving {output_fpath}\")\n",
    "    _output.to_parquet(output_fpath)\n",
    "    i += 1"
   ]
  }
 ],
 "metadata": {
  "kernelspec": {
   "display_name": "Python 3",
   "language": "python",
   "name": "python3"
  },
  "language_info": {
   "codemirror_mode": {
    "name": "ipython",
    "version": 3
   },
   "file_extension": ".py",
   "mimetype": "text/x-python",
   "name": "python",
   "nbconvert_exporter": "python",
   "pygments_lexer": "ipython3",
   "version": "3.8.3"
  },
  "toc": {
   "base_numbering": 1,
   "nav_menu": {},
   "number_sections": true,
   "sideBar": true,
   "skip_h1_title": false,
   "title_cell": "Table of Contents",
   "title_sidebar": "Contents",
   "toc_cell": false,
   "toc_position": {
    "height": "calc(100% - 180px)",
    "left": "10px",
    "top": "150px",
    "width": "320px"
   },
   "toc_section_display": true,
   "toc_window_display": true
  }
 },
 "nbformat": 4,
 "nbformat_minor": 5
}
